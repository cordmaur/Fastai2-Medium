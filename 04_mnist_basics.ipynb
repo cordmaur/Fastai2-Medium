{
  "cells": [
    {
      "cell_type": "markdown",
      "metadata": {
        "id": "view-in-github",
        "colab_type": "text"
      },
      "source": [
        "<a href=\"https://colab.research.google.com/github/cordmaur/Fastai2-Medium/blob/master/04_mnist_basics.ipynb\" target=\"_parent\"><img src=\"https://colab.research.google.com/assets/colab-badge.svg\" alt=\"Open In Colab\"/></a>"
      ]
    },
    {
      "cell_type": "code",
      "execution_count": 2,
      "metadata": {
        "id": "uJzNnCFe1zTI"
      },
      "outputs": [],
      "source": [
        "#hide\n",
        "%pip install -Uq fastai\n",
        "from fastai.vision.all import *\n",
        "\n",
        "matplotlib.rc('image', cmap='Greys')"
      ]
    },
    {
      "cell_type": "code",
      "source": [
        "import fastai\n",
        "fastai.__version__"
      ],
      "metadata": {
        "colab": {
          "base_uri": "https://localhost:8080/",
          "height": 35
        },
        "id": "eJlUPGwf2Lns",
        "outputId": "33b0bf95-a13e-4f01-d30e-f2e7ae8ec514"
      },
      "execution_count": 3,
      "outputs": [
        {
          "output_type": "execute_result",
          "data": {
            "text/plain": [
              "'2.5.6'"
            ],
            "application/vnd.google.colaboratory.intrinsic+json": {
              "type": "string"
            }
          },
          "metadata": {},
          "execution_count": 3
        }
      ]
    },
    {
      "cell_type": "markdown",
      "metadata": {
        "id": "WYGm_I3K1zTI"
      },
      "source": [
        "# Under the Hood: Training a Digit Classifier"
      ]
    },
    {
      "cell_type": "markdown",
      "metadata": {
        "id": "XYQxykRm1zTJ"
      },
      "source": [
        "## Pixels: The Foundations of Computer Vision"
      ]
    },
    {
      "cell_type": "markdown",
      "metadata": {
        "id": "Q8KHOpWk1zTK"
      },
      "source": [
        "## Sidebar: Tenacity and Deep Learning"
      ]
    },
    {
      "cell_type": "markdown",
      "metadata": {
        "id": "I6lAWZVN1zTK"
      },
      "source": [
        "## End sidebar"
      ]
    },
    {
      "cell_type": "code",
      "execution_count": 4,
      "metadata": {
        "id": "LkyWJnYg1zTL",
        "colab": {
          "base_uri": "https://localhost:8080/",
          "height": 37
        },
        "outputId": "10afa11d-ea07-48a7-fece-0e82c6d4d9b7"
      },
      "outputs": [
        {
          "output_type": "display_data",
          "data": {
            "text/plain": [
              "<IPython.core.display.HTML object>"
            ],
            "text/html": [
              "\n",
              "<style>\n",
              "    /* Turns off some styling */\n",
              "    progress {\n",
              "        /* gets rid of default border in Firefox and Opera. */\n",
              "        border: none;\n",
              "        /* Needs to be in here for Safari polyfill so background images work as expected. */\n",
              "        background-size: auto;\n",
              "    }\n",
              "    .progress-bar-interrupted, .progress-bar-interrupted::-webkit-progress-bar {\n",
              "        background: #F44336;\n",
              "    }\n",
              "</style>\n"
            ]
          },
          "metadata": {}
        },
        {
          "output_type": "display_data",
          "data": {
            "text/plain": [
              "<IPython.core.display.HTML object>"
            ],
            "text/html": [
              "\n",
              "    <div>\n",
              "      <progress value='3219456' class='' max='3214948' style='width:300px; height:20px; vertical-align: middle;'></progress>\n",
              "      100.14% [3219456/3214948 00:00<00:00]\n",
              "    </div>\n",
              "    "
            ]
          },
          "metadata": {}
        }
      ],
      "source": [
        "path = untar_data(URLs.MNIST_SAMPLE)"
      ]
    },
    {
      "cell_type": "code",
      "source": [
        "path.as_posix()"
      ],
      "metadata": {
        "colab": {
          "base_uri": "https://localhost:8080/",
          "height": 35
        },
        "id": "Xqts87713V8u",
        "outputId": "8460f40b-daac-4830-e4ff-105eb8a537ff"
      },
      "execution_count": 16,
      "outputs": [
        {
          "output_type": "execute_result",
          "data": {
            "text/plain": [
              "'/root/.fastai/data/mnist_sample'"
            ],
            "application/vnd.google.colaboratory.intrinsic+json": {
              "type": "string"
            }
          },
          "metadata": {},
          "execution_count": 16
        }
      ]
    },
    {
      "cell_type": "code",
      "execution_count": 9,
      "metadata": {
        "id": "rMvkg0EA1zTL"
      },
      "outputs": [],
      "source": [
        "#hide\n",
        "Path.BASE_PATH = path"
      ]
    },
    {
      "cell_type": "code",
      "source": [
        "path.as_posix()"
      ],
      "metadata": {
        "colab": {
          "base_uri": "https://localhost:8080/",
          "height": 35
        },
        "id": "3F5lSQ2d29Kq",
        "outputId": "4c6327ca-8933-4250-ca69-29f6a5a2bfa5"
      },
      "execution_count": 13,
      "outputs": [
        {
          "output_type": "execute_result",
          "data": {
            "text/plain": [
              "'/root/.fastai/data/mnist_sample'"
            ],
            "application/vnd.google.colaboratory.intrinsic+json": {
              "type": "string"
            }
          },
          "metadata": {},
          "execution_count": 13
        }
      ]
    },
    {
      "cell_type": "code",
      "execution_count": 10,
      "metadata": {
        "id": "JtecLVhc1zTM",
        "colab": {
          "base_uri": "https://localhost:8080/"
        },
        "outputId": "bb4dbbf0-1b2b-412f-a91e-5e50ba2235e6"
      },
      "outputs": [
        {
          "output_type": "execute_result",
          "data": {
            "text/plain": [
              "(#3) [Path('valid'),Path('labels.csv'),Path('train')]"
            ]
          },
          "metadata": {},
          "execution_count": 10
        }
      ],
      "source": [
        "path.ls()"
      ]
    },
    {
      "cell_type": "code",
      "execution_count": null,
      "metadata": {
        "id": "ygBd97Nv1zTM"
      },
      "outputs": [],
      "source": [
        "(path/'train').ls()"
      ]
    },
    {
      "cell_type": "code",
      "execution_count": 22,
      "metadata": {
        "id": "vXfhydml1zTN",
        "colab": {
          "base_uri": "https://localhost:8080/"
        },
        "outputId": "ee9f39e0-bfa1-4b68-a6ff-c227377fb282"
      },
      "outputs": [
        {
          "output_type": "execute_result",
          "data": {
            "text/plain": [
              "(#6131) [Path('train/3/10.png'),Path('train/3/10000.png'),Path('train/3/10011.png'),Path('train/3/10031.png'),Path('train/3/10034.png'),Path('train/3/10042.png'),Path('train/3/10052.png'),Path('train/3/1007.png'),Path('train/3/10074.png'),Path('train/3/10091.png')...]"
            ]
          },
          "metadata": {},
          "execution_count": 22
        }
      ],
      "source": [
        "threes = (path/'train'/'3').ls().sorted()\n",
        "sevens = (path/'train'/'7').ls().sorted()\n",
        "threes"
      ]
    },
    {
      "cell_type": "code",
      "execution_count": 23,
      "metadata": {
        "id": "KVsAcDar1zTN",
        "colab": {
          "base_uri": "https://localhost:8080/",
          "height": 45
        },
        "outputId": "c55091aa-8512-4f7d-d763-50fa1af1cb91"
      },
      "outputs": [
        {
          "output_type": "execute_result",
          "data": {
            "text/plain": [
              "<PIL.PngImagePlugin.PngImageFile image mode=L size=28x28 at 0x7FD8FCD3B4D0>"
            ],
            "image/png": "[encoded data removed]"
          },
          "metadata": {},
          "execution_count": 23
        }
      ],
      "source": [
        "im3_path = threes[1]\n",
        "im3 = Image.open(im3_path)\n",
        "im3"
      ]
    },
    {
      "cell_type": "code",
      "execution_count": 24,
      "metadata": {
        "id": "CyT6WzUz1zTN",
        "colab": {
          "base_uri": "https://localhost:8080/"
        },
        "outputId": "e71d8ddc-3f3c-4505-d23e-be763f37181f"
      },
      "outputs": [
        {
          "output_type": "execute_result",
          "data": {
            "text/plain": [
              "array([[  0,   0,   0,   0,   0,   0],\n",
              "       [  0,   0,   0,   0,   0,  29],\n",
              "       [  0,   0,   0,  48, 166, 224],\n",
              "       [  0,  93, 244, 249, 253, 187],\n",
              "       [  0, 107, 253, 253, 230,  48],\n",
              "       [  0,   3,  20,  20,  15,   0]], dtype=uint8)"
            ]
          },
          "metadata": {},
          "execution_count": 24
        }
      ],
      "source": [
        "array(im3)[4:10,4:10]"
      ]
    },
    {
      "cell_type": "code",
      "execution_count": 25,
      "metadata": {
        "id": "ov-MSLx21zTN",
        "colab": {
          "base_uri": "https://localhost:8080/"
        },
        "outputId": "941a3b6c-5292-40a1-8f08-f1d4406227c8"
      },
      "outputs": [
        {
          "output_type": "execute_result",
          "data": {
            "text/plain": [
              "tensor([[  0,   0,   0,   0,   0,   0],\n",
              "        [  0,   0,   0,   0,   0,  29],\n",
              "        [  0,   0,   0,  48, 166, 224],\n",
              "        [  0,  93, 244, 249, 253, 187],\n",
              "        [  0, 107, 253, 253, 230,  48],\n",
              "        [  0,   3,  20,  20,  15,   0]], dtype=torch.uint8)"
            ]
          },
          "metadata": {},
          "execution_count": 25
        }
      ],
      "source": [
        "tensor(im3)[4:10,4:10]"
      ]
    },
    {
      "cell_type": "code",
      "execution_count": 26,
      "metadata": {
        "id": "SINxlrwL1zTO",
        "colab": {
          "base_uri": "https://localhost:8080/",
          "height": 394
        },
        "outputId": "feef7b87-dc66-4d4a-f87b-0bf1de9ed27d"
      },
      "outputs": [
        {
          "output_type": "execute_result",
          "data": {
            "text/plain": [
              "<pandas.io.formats.style.Styler at 0x7fd8fcd23c50>"
            ],
            "text/html": [
              "<style type=\"text/css\">\n",
              "#T_9dbfe_row0_col0, #T_9dbfe_row0_col1, #T_9dbfe_row0_col2, #T_9dbfe_row0_col3, #T_9dbfe_row0_col4, #T_9dbfe_row0_col5, #T_9dbfe_row0_col6, #T_9dbfe_row0_col7, #T_9dbfe_row0_col8, #T_9dbfe_row0_col9, #T_9dbfe_row0_col10, #T_9dbfe_row0_col11, #T_9dbfe_row0_col12, #T_9dbfe_row0_col13, #T_9dbfe_row0_col14, #T_9dbfe_row0_col15, #T_9dbfe_row0_col16, #T_9dbfe_row0_col17, #T_9dbfe_row1_col0, #T_9dbfe_row1_col1, #T_9dbfe_row1_col2, #T_9dbfe_row1_col3, #T_9dbfe_row1_col4, #T_9dbfe_row1_col15, #T_9dbfe_row1_col16, #T_9dbfe_row1_col17, #T_9dbfe_row2_col0, #T_9dbfe_row2_col1, #T_9dbfe_row2_col2, #T_9dbfe_row2_col15, #T_9dbfe_row2_col16, #T_9dbfe_row2_col17, #T_9dbfe_row3_col0, #T_9dbfe_row3_col15, #T_9dbfe_row3_col16, #T_9dbfe_row3_col17, #T_9dbfe_row4_col0, #T_9dbfe_row4_col6, #T_9dbfe_row4_col7, #T_9dbfe_row4_col8, #T_9dbfe_row4_col9, #T_9dbfe_row4_col10, #T_9dbfe_row4_col15, #T_9dbfe_row4_col16, #T_9dbfe_row4_col17, #T_9dbfe_row5_col0, #T_9dbfe_row5_col5, #T_9dbfe_row5_col6, #T_9dbfe_row5_col7, #T_9dbfe_row5_col8, #T_9dbfe_row5_col9, #T_9dbfe_row5_col15, #T_9dbfe_row5_col16, #T_9dbfe_row5_col17, #T_9dbfe_row6_col0, #T_9dbfe_row6_col1, #T_9dbfe_row6_col2, #T_9dbfe_row6_col3, #T_9dbfe_row6_col4, #T_9dbfe_row6_col5, #T_9dbfe_row6_col6, #T_9dbfe_row6_col7, #T_9dbfe_row6_col8, #T_9dbfe_row6_col9, #T_9dbfe_row6_col14, #T_9dbfe_row6_col15, #T_9dbfe_row6_col16, #T_9dbfe_row6_col17, #T_9dbfe_row7_col0, #T_9dbfe_row7_col1, #T_9dbfe_row7_col2, #T_9dbfe_row7_col3, #T_9dbfe_row7_col4, #T_9dbfe_row7_col5, #T_9dbfe_row7_col6, #T_9dbfe_row7_col13, #T_9dbfe_row7_col14, #T_9dbfe_row7_col15, #T_9dbfe_row7_col16, #T_9dbfe_row7_col17, #T_9dbfe_row8_col0, #T_9dbfe_row8_col1, #T_9dbfe_row8_col2, #T_9dbfe_row8_col3, #T_9dbfe_row8_col4, #T_9dbfe_row8_col13, #T_9dbfe_row8_col14, #T_9dbfe_row8_col15, #T_9dbfe_row8_col16, #T_9dbfe_row8_col17, #T_9dbfe_row9_col0, #T_9dbfe_row9_col1, #T_9dbfe_row9_col2, #T_9dbfe_row9_col3, #T_9dbfe_row9_col4, #T_9dbfe_row9_col16, #T_9dbfe_row9_col17, #T_9dbfe_row10_col0, #T_9dbfe_row10_col1, #T_9dbfe_row10_col2, #T_9dbfe_row10_col3, #T_9dbfe_row10_col4, #T_9dbfe_row10_col5, #T_9dbfe_row10_col6, #T_9dbfe_row10_col17 {\n",
              "  font-size: 6pt;\n",
              "  background-color: #ffffff;\n",
              "  color: #000000;\n",
              "}\n",
              "#T_9dbfe_row1_col5 {\n",
              "  font-size: 6pt;\n",
              "  background-color: #efefef;\n",
              "  color: #000000;\n",
              "}\n",
              "#T_9dbfe_row1_col6, #T_9dbfe_row1_col13 {\n",
              "  font-size: 6pt;\n",
              "  background-color: #7c7c7c;\n",
              "  color: #f1f1f1;\n",
              "}\n",
              "#T_9dbfe_row1_col7 {\n",
              "  font-size: 6pt;\n",
              "  background-color: #4a4a4a;\n",
              "  color: #f1f1f1;\n",
              "}\n",
              "#T_9dbfe_row1_col8, #T_9dbfe_row1_col9, #T_9dbfe_row1_col10, #T_9dbfe_row2_col5, #T_9dbfe_row2_col6, #T_9dbfe_row2_col7, #T_9dbfe_row2_col11, #T_9dbfe_row2_col12, #T_9dbfe_row2_col13, #T_9dbfe_row3_col4, #T_9dbfe_row3_col12, #T_9dbfe_row3_col13, #T_9dbfe_row4_col1, #T_9dbfe_row4_col2, #T_9dbfe_row4_col3, #T_9dbfe_row4_col12, #T_9dbfe_row4_col13, #T_9dbfe_row5_col12, #T_9dbfe_row6_col11, #T_9dbfe_row9_col11, #T_9dbfe_row10_col11, #T_9dbfe_row10_col12, #T_9dbfe_row10_col13, #T_9dbfe_row10_col14, #T_9dbfe_row10_col15, #T_9dbfe_row10_col16 {\n",
              "  font-size: 6pt;\n",
              "  background-color: #000000;\n",
              "  color: #f1f1f1;\n",
              "}\n",
              "#T_9dbfe_row1_col11 {\n",
              "  font-size: 6pt;\n",
              "  background-color: #606060;\n",
              "  color: #f1f1f1;\n",
              "}\n",
              "#T_9dbfe_row1_col12 {\n",
              "  font-size: 6pt;\n",
              "  background-color: #4d4d4d;\n",
              "  color: #f1f1f1;\n",
              "}\n",
              "#T_9dbfe_row1_col14 {\n",
              "  font-size: 6pt;\n",
              "  background-color: #bbbbbb;\n",
              "  color: #000000;\n",
              "}\n",
              "#T_9dbfe_row2_col3 {\n",
              "  font-size: 6pt;\n",
              "  background-color: #e4e4e4;\n",
              "  color: #000000;\n",
              "}\n",
              "#T_9dbfe_row2_col4, #T_9dbfe_row8_col6 {\n",
              "  font-size: 6pt;\n",
              "  background-color: #6b6b6b;\n",
              "  color: #f1f1f1;\n",
              "}\n",
              "#T_9dbfe_row2_col8, #T_9dbfe_row2_col14, #T_9dbfe_row3_col14 {\n",
              "  font-size: 6pt;\n",
              "  background-color: #171717;\n",
              "  color: #f1f1f1;\n",
              "}\n",
              "#T_9dbfe_row2_col9, #T_9dbfe_row3_col11 {\n",
              "  font-size: 6pt;\n",
              "  background-color: #4b4b4b;\n",
              "  color: #f1f1f1;\n",
              "}\n",
              "#T_9dbfe_row2_col10, #T_9dbfe_row7_col10, #T_9dbfe_row8_col8, #T_9dbfe_row8_col10, #T_9dbfe_row9_col8, #T_9dbfe_row9_col10 {\n",
              "  font-size: 6pt;\n",
              "  background-color: #010101;\n",
              "  color: #f1f1f1;\n",
              "}\n",
              "#T_9dbfe_row3_col1 {\n",
              "  font-size: 6pt;\n",
              "  background-color: #272727;\n",
              "  color: #f1f1f1;\n",
              "}\n",
              "#T_9dbfe_row3_col2 {\n",
              "  font-size: 6pt;\n",
              "  background-color: #0a0a0a;\n",
              "  color: #f1f1f1;\n",
              "}\n",
              "#T_9dbfe_row3_col3 {\n",
              "  font-size: 6pt;\n",
              "  background-color: #050505;\n",
              "  color: #f1f1f1;\n",
              "}\n",
              "#T_9dbfe_row3_col5 {\n",
              "  font-size: 6pt;\n",
              "  background-color: #333333;\n",
              "  color: #f1f1f1;\n",
              "}\n",
              "#T_9dbfe_row3_col6 {\n",
              "  font-size: 6pt;\n",
              "  background-color: #e6e6e6;\n",
              "  color: #000000;\n",
              "}\n",
              "#T_9dbfe_row3_col7, #T_9dbfe_row3_col10 {\n",
              "  font-size: 6pt;\n",
              "  background-color: #fafafa;\n",
              "  color: #000000;\n",
              "}\n",
              "#T_9dbfe_row3_col8 {\n",
              "  font-size: 6pt;\n",
              "  background-color: #fbfbfb;\n",
              "  color: #000000;\n",
              "}\n",
              "#T_9dbfe_row3_col9 {\n",
              "  font-size: 6pt;\n",
              "  background-color: #fdfdfd;\n",
              "  color: #000000;\n",
              "}\n",
              "#T_9dbfe_row4_col4 {\n",
              "  font-size: 6pt;\n",
              "  background-color: #1b1b1b;\n",
              "  color: #f1f1f1;\n",
              "}\n",
              "#T_9dbfe_row4_col5 {\n",
              "  font-size: 6pt;\n",
              "  background-color: #e0e0e0;\n",
              "  color: #000000;\n",
              "}\n",
              "#T_9dbfe_row4_col11 {\n",
              "  font-size: 6pt;\n",
              "  background-color: #4e4e4e;\n",
              "  color: #f1f1f1;\n",
              "}\n",
              "#T_9dbfe_row4_col14 {\n",
              "  font-size: 6pt;\n",
              "  background-color: #767676;\n",
              "  color: #f1f1f1;\n",
              "}\n",
              "#T_9dbfe_row5_col1 {\n",
              "  font-size: 6pt;\n",
              "  background-color: #fcfcfc;\n",
              "  color: #000000;\n",
              "}\n",
              "#T_9dbfe_row5_col2, #T_9dbfe_row5_col3 {\n",
              "  font-size: 6pt;\n",
              "  background-color: #f6f6f6;\n",
              "  color: #000000;\n",
              "}\n",
              "#T_9dbfe_row5_col4, #T_9dbfe_row7_col7 {\n",
              "  font-size: 6pt;\n",
              "  background-color: #f8f8f8;\n",
              "  color: #000000;\n",
              "}\n",
              "#T_9dbfe_row5_col10, #T_9dbfe_row10_col7 {\n",
              "  font-size: 6pt;\n",
              "  background-color: #e8e8e8;\n",
              "  color: #000000;\n",
              "}\n",
              "#T_9dbfe_row5_col11 {\n",
              "  font-size: 6pt;\n",
              "  background-color: #222222;\n",
              "  color: #f1f1f1;\n",
              "}\n",
              "#T_9dbfe_row5_col13, #T_9dbfe_row6_col12 {\n",
              "  font-size: 6pt;\n",
              "  background-color: #090909;\n",
              "  color: #f1f1f1;\n",
              "}\n",
              "#T_9dbfe_row5_col14 {\n",
              "  font-size: 6pt;\n",
              "  background-color: #d0d0d0;\n",
              "  color: #000000;\n",
              "}\n",
              "#T_9dbfe_row6_col10, #T_9dbfe_row7_col11, #T_9dbfe_row9_col6 {\n",
              "  font-size: 6pt;\n",
              "  background-color: #060606;\n",
              "  color: #f1f1f1;\n",
              "}\n",
              "#T_9dbfe_row6_col13 {\n",
              "  font-size: 6pt;\n",
              "  background-color: #979797;\n",
              "  color: #f1f1f1;\n",
              "}\n",
              "#T_9dbfe_row7_col8 {\n",
              "  font-size: 6pt;\n",
              "  background-color: #b6b6b6;\n",
              "  color: #000000;\n",
              "}\n",
              "#T_9dbfe_row7_col9 {\n",
              "  font-size: 6pt;\n",
              "  background-color: #252525;\n",
              "  color: #f1f1f1;\n",
              "}\n",
              "#T_9dbfe_row7_col12 {\n",
              "  font-size: 6pt;\n",
              "  background-color: #999999;\n",
              "  color: #f1f1f1;\n",
              "}\n",
              "#T_9dbfe_row8_col5 {\n",
              "  font-size: 6pt;\n",
              "  background-color: #f9f9f9;\n",
              "  color: #000000;\n",
              "}\n",
              "#T_9dbfe_row8_col7 {\n",
              "  font-size: 6pt;\n",
              "  background-color: #101010;\n",
              "  color: #f1f1f1;\n",
              "}\n",
              "#T_9dbfe_row8_col9, #T_9dbfe_row9_col9 {\n",
              "  font-size: 6pt;\n",
              "  background-color: #020202;\n",
              "  color: #f1f1f1;\n",
              "}\n",
              "#T_9dbfe_row8_col11 {\n",
              "  font-size: 6pt;\n",
              "  background-color: #545454;\n",
              "  color: #f1f1f1;\n",
              "}\n",
              "#T_9dbfe_row8_col12 {\n",
              "  font-size: 6pt;\n",
              "  background-color: #f1f1f1;\n",
              "  color: #000000;\n",
              "}\n",
              "#T_9dbfe_row9_col5 {\n",
              "  font-size: 6pt;\n",
              "  background-color: #f7f7f7;\n",
              "  color: #000000;\n",
              "}\n",
              "#T_9dbfe_row9_col7 {\n",
              "  font-size: 6pt;\n",
              "  background-color: #030303;\n",
              "  color: #f1f1f1;\n",
              "}\n",
              "#T_9dbfe_row9_col12 {\n",
              "  font-size: 6pt;\n",
              "  background-color: #181818;\n",
              "  color: #f1f1f1;\n",
              "}\n",
              "#T_9dbfe_row9_col13 {\n",
              "  font-size: 6pt;\n",
              "  background-color: #303030;\n",
              "  color: #f1f1f1;\n",
              "}\n",
              "#T_9dbfe_row9_col14 {\n",
              "  font-size: 6pt;\n",
              "  background-color: #a9a9a9;\n",
              "  color: #f1f1f1;\n",
              "}\n",
              "#T_9dbfe_row9_col15 {\n",
              "  font-size: 6pt;\n",
              "  background-color: #fefefe;\n",
              "  color: #000000;\n",
              "}\n",
              "#T_9dbfe_row10_col8, #T_9dbfe_row10_col9 {\n",
              "  font-size: 6pt;\n",
              "  background-color: #bababa;\n",
              "  color: #000000;\n",
              "}\n",
              "#T_9dbfe_row10_col10 {\n",
              "  font-size: 6pt;\n",
              "  background-color: #393939;\n",
              "  color: #f1f1f1;\n",
              "}\n",
              "</style>\n",
              "<table id=\"T_9dbfe_\" class=\"dataframe\">\n",
              "  <thead>\n",
              "    <tr>\n",
              "      <th class=\"blank level0\" >&nbsp;</th>\n",
              "      <th class=\"col_heading level0 col0\" >0</th>\n",
              "      <th class=\"col_heading level0 col1\" >1</th>\n",
              "      <th class=\"col_heading level0 col2\" >2</th>\n",
              "      <th class=\"col_heading level0 col3\" >3</th>\n",
              "      <th class=\"col_heading level0 col4\" >4</th>\n",
              "      <th class=\"col_heading level0 col5\" >5</th>\n",
              "      <th class=\"col_heading level0 col6\" >6</th>\n",
              "      <th class=\"col_heading level0 col7\" >7</th>\n",
              "      <th class=\"col_heading level0 col8\" >8</th>\n",
              "      <th class=\"col_heading level0 col9\" >9</th>\n",
              "      <th class=\"col_heading level0 col10\" >10</th>\n",
              "      <th class=\"col_heading level0 col11\" >11</th>\n",
              "      <th class=\"col_heading level0 col12\" >12</th>\n",
              "      <th class=\"col_heading level0 col13\" >13</th>\n",
              "      <th class=\"col_heading level0 col14\" >14</th>\n",
              "      <th class=\"col_heading level0 col15\" >15</th>\n",
              "      <th class=\"col_heading level0 col16\" >16</th>\n",
              "      <th class=\"col_heading level0 col17\" >17</th>\n",
              "    </tr>\n",
              "  </thead>\n",
              "  <tbody>\n",
              "    <tr>\n",
              "      <th id=\"T_9dbfe_level0_row0\" class=\"row_heading level0 row0\" >0</th>\n",
              "      <td id=\"T_9dbfe_row0_col0\" class=\"data row0 col0\" >0</td>\n",
              "      <td id=\"T_9dbfe_row0_col1\" class=\"data row0 col1\" >0</td>\n",
              "      <td id=\"T_9dbfe_row0_col2\" class=\"data row0 col2\" >0</td>\n",
              "      <td id=\"T_9dbfe_row0_col3\" class=\"data row0 col3\" >0</td>\n",
              "      <td id=\"T_9dbfe_row0_col4\" class=\"data row0 col4\" >0</td>\n",
              "      <td id=\"T_9dbfe_row0_col5\" class=\"data row0 col5\" >0</td>\n",
              "      <td id=\"T_9dbfe_row0_col6\" class=\"data row0 col6\" >0</td>\n",
              "      <td id=\"T_9dbfe_row0_col7\" class=\"data row0 col7\" >0</td>\n",
              "      <td id=\"T_9dbfe_row0_col8\" class=\"data row0 col8\" >0</td>\n",
              "      <td id=\"T_9dbfe_row0_col9\" class=\"data row0 col9\" >0</td>\n",
              "      <td id=\"T_9dbfe_row0_col10\" class=\"data row0 col10\" >0</td>\n",
              "      <td id=\"T_9dbfe_row0_col11\" class=\"data row0 col11\" >0</td>\n",
              "      <td id=\"T_9dbfe_row0_col12\" class=\"data row0 col12\" >0</td>\n",
              "      <td id=\"T_9dbfe_row0_col13\" class=\"data row0 col13\" >0</td>\n",
              "      <td id=\"T_9dbfe_row0_col14\" class=\"data row0 col14\" >0</td>\n",
              "      <td id=\"T_9dbfe_row0_col15\" class=\"data row0 col15\" >0</td>\n",
              "      <td id=\"T_9dbfe_row0_col16\" class=\"data row0 col16\" >0</td>\n",
              "      <td id=\"T_9dbfe_row0_col17\" class=\"data row0 col17\" >0</td>\n",
              "    </tr>\n",
              "    <tr>\n",
              "      <th id=\"T_9dbfe_level0_row1\" class=\"row_heading level0 row1\" >1</th>\n",
              "      <td id=\"T_9dbfe_row1_col0\" class=\"data row1 col0\" >0</td>\n",
              "      <td id=\"T_9dbfe_row1_col1\" class=\"data row1 col1\" >0</td>\n",
              "      <td id=\"T_9dbfe_row1_col2\" class=\"data row1 col2\" >0</td>\n",
              "      <td id=\"T_9dbfe_row1_col3\" class=\"data row1 col3\" >0</td>\n",
              "      <td id=\"T_9dbfe_row1_col4\" class=\"data row1 col4\" >0</td>\n",
              "      <td id=\"T_9dbfe_row1_col5\" class=\"data row1 col5\" >29</td>\n",
              "      <td id=\"T_9dbfe_row1_col6\" class=\"data row1 col6\" >150</td>\n",
              "      <td id=\"T_9dbfe_row1_col7\" class=\"data row1 col7\" >195</td>\n",
              "      <td id=\"T_9dbfe_row1_col8\" class=\"data row1 col8\" >254</td>\n",
              "      <td id=\"T_9dbfe_row1_col9\" class=\"data row1 col9\" >255</td>\n",
              "      <td id=\"T_9dbfe_row1_col10\" class=\"data row1 col10\" >254</td>\n",
              "      <td id=\"T_9dbfe_row1_col11\" class=\"data row1 col11\" >176</td>\n",
              "      <td id=\"T_9dbfe_row1_col12\" class=\"data row1 col12\" >193</td>\n",
              "      <td id=\"T_9dbfe_row1_col13\" class=\"data row1 col13\" >150</td>\n",
              "      <td id=\"T_9dbfe_row1_col14\" class=\"data row1 col14\" >96</td>\n",
              "      <td id=\"T_9dbfe_row1_col15\" class=\"data row1 col15\" >0</td>\n",
              "      <td id=\"T_9dbfe_row1_col16\" class=\"data row1 col16\" >0</td>\n",
              "      <td id=\"T_9dbfe_row1_col17\" class=\"data row1 col17\" >0</td>\n",
              "    </tr>\n",
              "    <tr>\n",
              "      <th id=\"T_9dbfe_level0_row2\" class=\"row_heading level0 row2\" >2</th>\n",
              "      <td id=\"T_9dbfe_row2_col0\" class=\"data row2 col0\" >0</td>\n",
              "      <td id=\"T_9dbfe_row2_col1\" class=\"data row2 col1\" >0</td>\n",
              "      <td id=\"T_9dbfe_row2_col2\" class=\"data row2 col2\" >0</td>\n",
              "      <td id=\"T_9dbfe_row2_col3\" class=\"data row2 col3\" >48</td>\n",
              "      <td id=\"T_9dbfe_row2_col4\" class=\"data row2 col4\" >166</td>\n",
              "      <td id=\"T_9dbfe_row2_col5\" class=\"data row2 col5\" >224</td>\n",
              "      <td id=\"T_9dbfe_row2_col6\" class=\"data row2 col6\" >253</td>\n",
              "      <td id=\"T_9dbfe_row2_col7\" class=\"data row2 col7\" >253</td>\n",
              "      <td id=\"T_9dbfe_row2_col8\" class=\"data row2 col8\" >234</td>\n",
              "      <td id=\"T_9dbfe_row2_col9\" class=\"data row2 col9\" >196</td>\n",
              "      <td id=\"T_9dbfe_row2_col10\" class=\"data row2 col10\" >253</td>\n",
              "      <td id=\"T_9dbfe_row2_col11\" class=\"data row2 col11\" >253</td>\n",
              "      <td id=\"T_9dbfe_row2_col12\" class=\"data row2 col12\" >253</td>\n",
              "      <td id=\"T_9dbfe_row2_col13\" class=\"data row2 col13\" >253</td>\n",
              "      <td id=\"T_9dbfe_row2_col14\" class=\"data row2 col14\" >233</td>\n",
              "      <td id=\"T_9dbfe_row2_col15\" class=\"data row2 col15\" >0</td>\n",
              "      <td id=\"T_9dbfe_row2_col16\" class=\"data row2 col16\" >0</td>\n",
              "      <td id=\"T_9dbfe_row2_col17\" class=\"data row2 col17\" >0</td>\n",
              "    </tr>\n",
              "    <tr>\n",
              "      <th id=\"T_9dbfe_level0_row3\" class=\"row_heading level0 row3\" >3</th>\n",
              "      <td id=\"T_9dbfe_row3_col0\" class=\"data row3 col0\" >0</td>\n",
              "      <td id=\"T_9dbfe_row3_col1\" class=\"data row3 col1\" >93</td>\n",
              "      <td id=\"T_9dbfe_row3_col2\" class=\"data row3 col2\" >244</td>\n",
              "      <td id=\"T_9dbfe_row3_col3\" class=\"data row3 col3\" >249</td>\n",
              "      <td id=\"T_9dbfe_row3_col4\" class=\"data row3 col4\" >253</td>\n",
              "      <td id=\"T_9dbfe_row3_col5\" class=\"data row3 col5\" >187</td>\n",
              "      <td id=\"T_9dbfe_row3_col6\" class=\"data row3 col6\" >46</td>\n",
              "      <td id=\"T_9dbfe_row3_col7\" class=\"data row3 col7\" >10</td>\n",
              "      <td id=\"T_9dbfe_row3_col8\" class=\"data row3 col8\" >8</td>\n",
              "      <td id=\"T_9dbfe_row3_col9\" class=\"data row3 col9\" >4</td>\n",
              "      <td id=\"T_9dbfe_row3_col10\" class=\"data row3 col10\" >10</td>\n",
              "      <td id=\"T_9dbfe_row3_col11\" class=\"data row3 col11\" >194</td>\n",
              "      <td id=\"T_9dbfe_row3_col12\" class=\"data row3 col12\" >253</td>\n",
              "      <td id=\"T_9dbfe_row3_col13\" class=\"data row3 col13\" >253</td>\n",
              "      <td id=\"T_9dbfe_row3_col14\" class=\"data row3 col14\" >233</td>\n",
              "      <td id=\"T_9dbfe_row3_col15\" class=\"data row3 col15\" >0</td>\n",
              "      <td id=\"T_9dbfe_row3_col16\" class=\"data row3 col16\" >0</td>\n",
              "      <td id=\"T_9dbfe_row3_col17\" class=\"data row3 col17\" >0</td>\n",
              "    </tr>\n",
              "    <tr>\n",
              "      <th id=\"T_9dbfe_level0_row4\" class=\"row_heading level0 row4\" >4</th>\n",
              "      <td id=\"T_9dbfe_row4_col0\" class=\"data row4 col0\" >0</td>\n",
              "      <td id=\"T_9dbfe_row4_col1\" class=\"data row4 col1\" >107</td>\n",
              "      <td id=\"T_9dbfe_row4_col2\" class=\"data row4 col2\" >253</td>\n",
              "      <td id=\"T_9dbfe_row4_col3\" class=\"data row4 col3\" >253</td>\n",
              "      <td id=\"T_9dbfe_row4_col4\" class=\"data row4 col4\" >230</td>\n",
              "      <td id=\"T_9dbfe_row4_col5\" class=\"data row4 col5\" >48</td>\n",
              "      <td id=\"T_9dbfe_row4_col6\" class=\"data row4 col6\" >0</td>\n",
              "      <td id=\"T_9dbfe_row4_col7\" class=\"data row4 col7\" >0</td>\n",
              "      <td id=\"T_9dbfe_row4_col8\" class=\"data row4 col8\" >0</td>\n",
              "      <td id=\"T_9dbfe_row4_col9\" class=\"data row4 col9\" >0</td>\n",
              "      <td id=\"T_9dbfe_row4_col10\" class=\"data row4 col10\" >0</td>\n",
              "      <td id=\"T_9dbfe_row4_col11\" class=\"data row4 col11\" >192</td>\n",
              "      <td id=\"T_9dbfe_row4_col12\" class=\"data row4 col12\" >253</td>\n",
              "      <td id=\"T_9dbfe_row4_col13\" class=\"data row4 col13\" >253</td>\n",
              "      <td id=\"T_9dbfe_row4_col14\" class=\"data row4 col14\" >156</td>\n",
              "      <td id=\"T_9dbfe_row4_col15\" class=\"data row4 col15\" >0</td>\n",
              "      <td id=\"T_9dbfe_row4_col16\" class=\"data row4 col16\" >0</td>\n",
              "      <td id=\"T_9dbfe_row4_col17\" class=\"data row4 col17\" >0</td>\n",
              "    </tr>\n",
              "    <tr>\n",
              "      <th id=\"T_9dbfe_level0_row5\" class=\"row_heading level0 row5\" >5</th>\n",
              "      <td id=\"T_9dbfe_row5_col0\" class=\"data row5 col0\" >0</td>\n",
              "      <td id=\"T_9dbfe_row5_col1\" class=\"data row5 col1\" >3</td>\n",
              "      <td id=\"T_9dbfe_row5_col2\" class=\"data row5 col2\" >20</td>\n",
              "      <td id=\"T_9dbfe_row5_col3\" class=\"data row5 col3\" >20</td>\n",
              "      <td id=\"T_9dbfe_row5_col4\" class=\"data row5 col4\" >15</td>\n",
              "      <td id=\"T_9dbfe_row5_col5\" class=\"data row5 col5\" >0</td>\n",
              "      <td id=\"T_9dbfe_row5_col6\" class=\"data row5 col6\" >0</td>\n",
              "      <td id=\"T_9dbfe_row5_col7\" class=\"data row5 col7\" >0</td>\n",
              "      <td id=\"T_9dbfe_row5_col8\" class=\"data row5 col8\" >0</td>\n",
              "      <td id=\"T_9dbfe_row5_col9\" class=\"data row5 col9\" >0</td>\n",
              "      <td id=\"T_9dbfe_row5_col10\" class=\"data row5 col10\" >43</td>\n",
              "      <td id=\"T_9dbfe_row5_col11\" class=\"data row5 col11\" >224</td>\n",
              "      <td id=\"T_9dbfe_row5_col12\" class=\"data row5 col12\" >253</td>\n",
              "      <td id=\"T_9dbfe_row5_col13\" class=\"data row5 col13\" >245</td>\n",
              "      <td id=\"T_9dbfe_row5_col14\" class=\"data row5 col14\" >74</td>\n",
              "      <td id=\"T_9dbfe_row5_col15\" class=\"data row5 col15\" >0</td>\n",
              "      <td id=\"T_9dbfe_row5_col16\" class=\"data row5 col16\" >0</td>\n",
              "      <td id=\"T_9dbfe_row5_col17\" class=\"data row5 col17\" >0</td>\n",
              "    </tr>\n",
              "    <tr>\n",
              "      <th id=\"T_9dbfe_level0_row6\" class=\"row_heading level0 row6\" >6</th>\n",
              "      <td id=\"T_9dbfe_row6_col0\" class=\"data row6 col0\" >0</td>\n",
              "      <td id=\"T_9dbfe_row6_col1\" class=\"data row6 col1\" >0</td>\n",
              "      <td id=\"T_9dbfe_row6_col2\" class=\"data row6 col2\" >0</td>\n",
              "      <td id=\"T_9dbfe_row6_col3\" class=\"data row6 col3\" >0</td>\n",
              "      <td id=\"T_9dbfe_row6_col4\" class=\"data row6 col4\" >0</td>\n",
              "      <td id=\"T_9dbfe_row6_col5\" class=\"data row6 col5\" >0</td>\n",
              "      <td id=\"T_9dbfe_row6_col6\" class=\"data row6 col6\" >0</td>\n",
              "      <td id=\"T_9dbfe_row6_col7\" class=\"data row6 col7\" >0</td>\n",
              "      <td id=\"T_9dbfe_row6_col8\" class=\"data row6 col8\" >0</td>\n",
              "      <td id=\"T_9dbfe_row6_col9\" class=\"data row6 col9\" >0</td>\n",
              "      <td id=\"T_9dbfe_row6_col10\" class=\"data row6 col10\" >249</td>\n",
              "      <td id=\"T_9dbfe_row6_col11\" class=\"data row6 col11\" >253</td>\n",
              "      <td id=\"T_9dbfe_row6_col12\" class=\"data row6 col12\" >245</td>\n",
              "      <td id=\"T_9dbfe_row6_col13\" class=\"data row6 col13\" >126</td>\n",
              "      <td id=\"T_9dbfe_row6_col14\" class=\"data row6 col14\" >0</td>\n",
              "      <td id=\"T_9dbfe_row6_col15\" class=\"data row6 col15\" >0</td>\n",
              "      <td id=\"T_9dbfe_row6_col16\" class=\"data row6 col16\" >0</td>\n",
              "      <td id=\"T_9dbfe_row6_col17\" class=\"data row6 col17\" >0</td>\n",
              "    </tr>\n",
              "    <tr>\n",
              "      <th id=\"T_9dbfe_level0_row7\" class=\"row_heading level0 row7\" >7</th>\n",
              "      <td id=\"T_9dbfe_row7_col0\" class=\"data row7 col0\" >0</td>\n",
              "      <td id=\"T_9dbfe_row7_col1\" class=\"data row7 col1\" >0</td>\n",
              "      <td id=\"T_9dbfe_row7_col2\" class=\"data row7 col2\" >0</td>\n",
              "      <td id=\"T_9dbfe_row7_col3\" class=\"data row7 col3\" >0</td>\n",
              "      <td id=\"T_9dbfe_row7_col4\" class=\"data row7 col4\" >0</td>\n",
              "      <td id=\"T_9dbfe_row7_col5\" class=\"data row7 col5\" >0</td>\n",
              "      <td id=\"T_9dbfe_row7_col6\" class=\"data row7 col6\" >0</td>\n",
              "      <td id=\"T_9dbfe_row7_col7\" class=\"data row7 col7\" >14</td>\n",
              "      <td id=\"T_9dbfe_row7_col8\" class=\"data row7 col8\" >101</td>\n",
              "      <td id=\"T_9dbfe_row7_col9\" class=\"data row7 col9\" >223</td>\n",
              "      <td id=\"T_9dbfe_row7_col10\" class=\"data row7 col10\" >253</td>\n",
              "      <td id=\"T_9dbfe_row7_col11\" class=\"data row7 col11\" >248</td>\n",
              "      <td id=\"T_9dbfe_row7_col12\" class=\"data row7 col12\" >124</td>\n",
              "      <td id=\"T_9dbfe_row7_col13\" class=\"data row7 col13\" >0</td>\n",
              "      <td id=\"T_9dbfe_row7_col14\" class=\"data row7 col14\" >0</td>\n",
              "      <td id=\"T_9dbfe_row7_col15\" class=\"data row7 col15\" >0</td>\n",
              "      <td id=\"T_9dbfe_row7_col16\" class=\"data row7 col16\" >0</td>\n",
              "      <td id=\"T_9dbfe_row7_col17\" class=\"data row7 col17\" >0</td>\n",
              "    </tr>\n",
              "    <tr>\n",
              "      <th id=\"T_9dbfe_level0_row8\" class=\"row_heading level0 row8\" >8</th>\n",
              "      <td id=\"T_9dbfe_row8_col0\" class=\"data row8 col0\" >0</td>\n",
              "      <td id=\"T_9dbfe_row8_col1\" class=\"data row8 col1\" >0</td>\n",
              "      <td id=\"T_9dbfe_row8_col2\" class=\"data row8 col2\" >0</td>\n",
              "      <td id=\"T_9dbfe_row8_col3\" class=\"data row8 col3\" >0</td>\n",
              "      <td id=\"T_9dbfe_row8_col4\" class=\"data row8 col4\" >0</td>\n",
              "      <td id=\"T_9dbfe_row8_col5\" class=\"data row8 col5\" >11</td>\n",
              "      <td id=\"T_9dbfe_row8_col6\" class=\"data row8 col6\" >166</td>\n",
              "      <td id=\"T_9dbfe_row8_col7\" class=\"data row8 col7\" >239</td>\n",
              "      <td id=\"T_9dbfe_row8_col8\" class=\"data row8 col8\" >253</td>\n",
              "      <td id=\"T_9dbfe_row8_col9\" class=\"data row8 col9\" >253</td>\n",
              "      <td id=\"T_9dbfe_row8_col10\" class=\"data row8 col10\" >253</td>\n",
              "      <td id=\"T_9dbfe_row8_col11\" class=\"data row8 col11\" >187</td>\n",
              "      <td id=\"T_9dbfe_row8_col12\" class=\"data row8 col12\" >30</td>\n",
              "      <td id=\"T_9dbfe_row8_col13\" class=\"data row8 col13\" >0</td>\n",
              "      <td id=\"T_9dbfe_row8_col14\" class=\"data row8 col14\" >0</td>\n",
              "      <td id=\"T_9dbfe_row8_col15\" class=\"data row8 col15\" >0</td>\n",
              "      <td id=\"T_9dbfe_row8_col16\" class=\"data row8 col16\" >0</td>\n",
              "      <td id=\"T_9dbfe_row8_col17\" class=\"data row8 col17\" >0</td>\n",
              "    </tr>\n",
              "    <tr>\n",
              "      <th id=\"T_9dbfe_level0_row9\" class=\"row_heading level0 row9\" >9</th>\n",
              "      <td id=\"T_9dbfe_row9_col0\" class=\"data row9 col0\" >0</td>\n",
              "      <td id=\"T_9dbfe_row9_col1\" class=\"data row9 col1\" >0</td>\n",
              "      <td id=\"T_9dbfe_row9_col2\" class=\"data row9 col2\" >0</td>\n",
              "      <td id=\"T_9dbfe_row9_col3\" class=\"data row9 col3\" >0</td>\n",
              "      <td id=\"T_9dbfe_row9_col4\" class=\"data row9 col4\" >0</td>\n",
              "      <td id=\"T_9dbfe_row9_col5\" class=\"data row9 col5\" >16</td>\n",
              "      <td id=\"T_9dbfe_row9_col6\" class=\"data row9 col6\" >248</td>\n",
              "      <td id=\"T_9dbfe_row9_col7\" class=\"data row9 col7\" >250</td>\n",
              "      <td id=\"T_9dbfe_row9_col8\" class=\"data row9 col8\" >253</td>\n",
              "      <td id=\"T_9dbfe_row9_col9\" class=\"data row9 col9\" >253</td>\n",
              "      <td id=\"T_9dbfe_row9_col10\" class=\"data row9 col10\" >253</td>\n",
              "      <td id=\"T_9dbfe_row9_col11\" class=\"data row9 col11\" >253</td>\n",
              "      <td id=\"T_9dbfe_row9_col12\" class=\"data row9 col12\" >232</td>\n",
              "      <td id=\"T_9dbfe_row9_col13\" class=\"data row9 col13\" >213</td>\n",
              "      <td id=\"T_9dbfe_row9_col14\" class=\"data row9 col14\" >111</td>\n",
              "      <td id=\"T_9dbfe_row9_col15\" class=\"data row9 col15\" >2</td>\n",
              "      <td id=\"T_9dbfe_row9_col16\" class=\"data row9 col16\" >0</td>\n",
              "      <td id=\"T_9dbfe_row9_col17\" class=\"data row9 col17\" >0</td>\n",
              "    </tr>\n",
              "    <tr>\n",
              "      <th id=\"T_9dbfe_level0_row10\" class=\"row_heading level0 row10\" >10</th>\n",
              "      <td id=\"T_9dbfe_row10_col0\" class=\"data row10 col0\" >0</td>\n",
              "      <td id=\"T_9dbfe_row10_col1\" class=\"data row10 col1\" >0</td>\n",
              "      <td id=\"T_9dbfe_row10_col2\" class=\"data row10 col2\" >0</td>\n",
              "      <td id=\"T_9dbfe_row10_col3\" class=\"data row10 col3\" >0</td>\n",
              "      <td id=\"T_9dbfe_row10_col4\" class=\"data row10 col4\" >0</td>\n",
              "      <td id=\"T_9dbfe_row10_col5\" class=\"data row10 col5\" >0</td>\n",
              "      <td id=\"T_9dbfe_row10_col6\" class=\"data row10 col6\" >0</td>\n",
              "      <td id=\"T_9dbfe_row10_col7\" class=\"data row10 col7\" >43</td>\n",
              "      <td id=\"T_9dbfe_row10_col8\" class=\"data row10 col8\" >98</td>\n",
              "      <td id=\"T_9dbfe_row10_col9\" class=\"data row10 col9\" >98</td>\n",
              "      <td id=\"T_9dbfe_row10_col10\" class=\"data row10 col10\" >208</td>\n",
              "      <td id=\"T_9dbfe_row10_col11\" class=\"data row10 col11\" >253</td>\n",
              "      <td id=\"T_9dbfe_row10_col12\" class=\"data row10 col12\" >253</td>\n",
              "      <td id=\"T_9dbfe_row10_col13\" class=\"data row10 col13\" >253</td>\n",
              "      <td id=\"T_9dbfe_row10_col14\" class=\"data row10 col14\" >253</td>\n",
              "      <td id=\"T_9dbfe_row10_col15\" class=\"data row10 col15\" >187</td>\n",
              "      <td id=\"T_9dbfe_row10_col16\" class=\"data row10 col16\" >22</td>\n",
              "      <td id=\"T_9dbfe_row10_col17\" class=\"data row10 col17\" >0</td>\n",
              "    </tr>\n",
              "  </tbody>\n",
              "</table>\n"
            ]
          },
          "metadata": {},
          "execution_count": 26
        }
      ],
      "source": [
        "im3_t = tensor(im3)\n",
        "df = pd.DataFrame(im3_t[4:15,4:22])\n",
        "df.style.set_properties(**{'font-size':'6pt'}).background_gradient('Greys')"
      ]
    },
    {
      "cell_type": "markdown",
      "metadata": {
        "id": "Bq-RMqc21zTO"
      },
      "source": [
        "## First Try: Pixel Similarity"
      ]
    },
    {
      "cell_type": "code",
      "execution_count": 29,
      "metadata": {
        "id": "Ys2mD7Go1zTO",
        "colab": {
          "base_uri": "https://localhost:8080/"
        },
        "outputId": "f726733d-a36d-41de-bcae-59dbefbb76a9"
      },
      "outputs": [
        {
          "output_type": "execute_result",
          "data": {
            "text/plain": [
              "(6131, 6265)"
            ]
          },
          "metadata": {},
          "execution_count": 29
        }
      ],
      "source": [
        "seven_tensors = [tensor(Image.open(o)) for o in sevens]\n",
        "three_tensors = [tensor(Image.open(o)) for o in threes]\n",
        "len(three_tensors),len(seven_tensors)"
      ]
    },
    {
      "cell_type": "code",
      "execution_count": 30,
      "metadata": {
        "id": "apoZN8wz1zTP",
        "colab": {
          "base_uri": "https://localhost:8080/",
          "height": 85
        },
        "outputId": "696d4339-2ea4-4469-f1b5-9c53932bed5c"
      },
      "outputs": [
        {
          "output_type": "display_data",
          "data": {
            "text/plain": [
              "<Figure size 72x72 with 1 Axes>"
            ],
            "image/png": "[encoded data removed]"
          },
          "metadata": {
            "needs_background": "light"
          }
        }
      ],
      "source": [
        "show_image(three_tensors[1]);"
      ]
    },
    {
      "cell_type": "code",
      "execution_count": 31,
      "metadata": {
        "id": "XSb054881zTP",
        "colab": {
          "base_uri": "https://localhost:8080/"
        },
        "outputId": "97265d55-229b-46bf-b4e1-7373c27169bb"
      },
      "outputs": [
        {
          "output_type": "execute_result",
          "data": {
            "text/plain": [
              "torch.Size([6131, 28, 28])"
            ]
          },
          "metadata": {},
          "execution_count": 31
        }
      ],
      "source": [
        "stacked_sevens = torch.stack(seven_tensors).float()/255\n",
        "stacked_threes = torch.stack(three_tensors).float()/255\n",
        "stacked_threes.shape"
      ]
    },
    {
      "cell_type": "code",
      "execution_count": 32,
      "metadata": {
        "id": "_zdvi8ka1zTP",
        "colab": {
          "base_uri": "https://localhost:8080/"
        },
        "outputId": "aed368e6-2605-4d1f-a46d-1d06c4a611b5"
      },
      "outputs": [
        {
          "output_type": "execute_result",
          "data": {
            "text/plain": [
              "3"
            ]
          },
          "metadata": {},
          "execution_count": 32
        }
      ],
      "source": [
        "len(stacked_threes.shape)"
      ]
    },
    {
      "cell_type": "code",
      "execution_count": 33,
      "metadata": {
        "id": "9QulLe4F1zTP",
        "colab": {
          "base_uri": "https://localhost:8080/"
        },
        "outputId": "1a5d637e-813c-4f9e-be87-bb5871ead6f5"
      },
      "outputs": [
        {
          "output_type": "execute_result",
          "data": {
            "text/plain": [
              "3"
            ]
          },
          "metadata": {},
          "execution_count": 33
        }
      ],
      "source": [
        "stacked_threes.ndim"
      ]
    },
    {
      "cell_type": "code",
      "execution_count": 34,
      "metadata": {
        "id": "IQQA2n571zTP",
        "colab": {
          "base_uri": "https://localhost:8080/",
          "height": 85
        },
        "outputId": "40c85e55-20a9-4c00-87a4-0fdf010918b8"
      },
      "outputs": [
        {
          "output_type": "display_data",
          "data": {
            "text/plain": [
              "<Figure size 72x72 with 1 Axes>"
            ],
            "image/png": "[encoded data removed]"
          },
          "metadata": {
            "needs_background": "light"
          }
        }
      ],
      "source": [
        "mean3 = stacked_threes.mean(0)\n",
        "show_image(mean3);"
      ]
    },
    {
      "cell_type": "code",
      "execution_count": 35,
      "metadata": {
        "id": "oT7L9lgM1zTQ",
        "colab": {
          "base_uri": "https://localhost:8080/",
          "height": 85
        },
        "outputId": "f81d7637-cfb1-4098-801d-568ac526ecff"
      },
      "outputs": [
        {
          "output_type": "display_data",
          "data": {
            "text/plain": [
              "<Figure size 72x72 with 1 Axes>"
            ],
            "image/png": "[encoded data removed]"
          },
          "metadata": {
            "needs_background": "light"
          }
        }
      ],
      "source": [
        "mean7 = stacked_sevens.mean(0)\n",
        "show_image(mean7);"
      ]
    },
    {
      "cell_type": "code",
      "execution_count": 36,
      "metadata": {
        "id": "CSjzYDe-1zTQ",
        "colab": {
          "base_uri": "https://localhost:8080/",
          "height": 85
        },
        "outputId": "aadb0af7-9dd2-4f9b-bb97-9b58738bcf82"
      },
      "outputs": [
        {
          "output_type": "display_data",
          "data": {
            "text/plain": [
              "<Figure size 72x72 with 1 Axes>"
            ],
            "image/png": "[encoded data removed]"
          },
          "metadata": {
            "needs_background": "light"
          }
        }
      ],
      "source": [
        "a_3 = stacked_threes[1]\n",
        "show_image(a_3);"
      ]
    },
    {
      "cell_type": "code",
      "execution_count": 37,
      "metadata": {
        "id": "90xs3wRA1zTQ",
        "colab": {
          "base_uri": "https://localhost:8080/"
        },
        "outputId": "71277b7e-de2b-4565-b6d6-666f8f5c92f3"
      },
      "outputs": [
        {
          "output_type": "execute_result",
          "data": {
            "text/plain": [
              "(tensor(0.1114), tensor(0.2021))"
            ]
          },
          "metadata": {},
          "execution_count": 37
        }
      ],
      "source": [
        "dist_3_abs = (a_3 - mean3).abs().mean()\n",
        "dist_3_sqr = ((a_3 - mean3)**2).mean().sqrt()\n",
        "dist_3_abs,dist_3_sqr"
      ]
    },
    {
      "cell_type": "code",
      "execution_count": 38,
      "metadata": {
        "id": "XiU7RL1_1zTQ",
        "colab": {
          "base_uri": "https://localhost:8080/"
        },
        "outputId": "27793b33-caaf-434b-8901-1b7b61b08eae"
      },
      "outputs": [
        {
          "output_type": "execute_result",
          "data": {
            "text/plain": [
              "(tensor(0.1586), tensor(0.3021))"
            ]
          },
          "metadata": {},
          "execution_count": 38
        }
      ],
      "source": [
        "dist_7_abs = (a_3 - mean7).abs().mean()\n",
        "dist_7_sqr = ((a_3 - mean7)**2).mean().sqrt()\n",
        "dist_7_abs,dist_7_sqr"
      ]
    },
    {
      "cell_type": "code",
      "execution_count": 39,
      "metadata": {
        "id": "20YuCpnS1zTQ",
        "colab": {
          "base_uri": "https://localhost:8080/"
        },
        "outputId": "14041d65-a054-410f-8a32-167c2666f819"
      },
      "outputs": [
        {
          "output_type": "execute_result",
          "data": {
            "text/plain": [
              "(tensor(0.1586), tensor(0.3021))"
            ]
          },
          "metadata": {},
          "execution_count": 39
        }
      ],
      "source": [
        "F.l1_loss(a_3.float(),mean7), F.mse_loss(a_3,mean7).sqrt()"
      ]
    },
    {
      "cell_type": "markdown",
      "metadata": {
        "id": "TnuXEb6u1zTS"
      },
      "source": [
        "## Computing Metrics Using Broadcasting"
      ]
    },
    {
      "cell_type": "code",
      "execution_count": 40,
      "metadata": {
        "id": "4oJj5wYa1zTS",
        "colab": {
          "base_uri": "https://localhost:8080/"
        },
        "outputId": "dcdf907d-3ab3-48f6-efd1-7e1fce221d3c"
      },
      "outputs": [
        {
          "output_type": "execute_result",
          "data": {
            "text/plain": [
              "(torch.Size([1010, 28, 28]), torch.Size([1028, 28, 28]))"
            ]
          },
          "metadata": {},
          "execution_count": 40
        }
      ],
      "source": [
        "valid_3_tens = torch.stack([tensor(Image.open(o)) \n",
        "                            for o in (path/'valid'/'3').ls()])\n",
        "valid_3_tens = valid_3_tens.float()/255\n",
        "valid_7_tens = torch.stack([tensor(Image.open(o)) \n",
        "                            for o in (path/'valid'/'7').ls()])\n",
        "valid_7_tens = valid_7_tens.float()/255\n",
        "valid_3_tens.shape,valid_7_tens.shape"
      ]
    },
    {
      "cell_type": "code",
      "execution_count": 41,
      "metadata": {
        "id": "7IBTgM3e1zTS",
        "colab": {
          "base_uri": "https://localhost:8080/"
        },
        "outputId": "ff096987-197a-4694-8b66-6764ef1499d5"
      },
      "outputs": [
        {
          "output_type": "execute_result",
          "data": {
            "text/plain": [
              "tensor(0.1114)"
            ]
          },
          "metadata": {},
          "execution_count": 41
        }
      ],
      "source": [
        "def mnist_distance(a,b): return (a-b).abs().mean((-1,-2))\n",
        "mnist_distance(a_3, mean3)"
      ]
    },
    {
      "cell_type": "code",
      "execution_count": 42,
      "metadata": {
        "id": "TdNLIYE31zTS",
        "colab": {
          "base_uri": "https://localhost:8080/"
        },
        "outputId": "2ac5e636-5067-4f3b-8217-3217c90c4502"
      },
      "outputs": [
        {
          "output_type": "execute_result",
          "data": {
            "text/plain": [
              "(tensor([0.1417, 0.1226, 0.1300,  ..., 0.1335, 0.1343, 0.1243]),\n",
              " torch.Size([1010]))"
            ]
          },
          "metadata": {},
          "execution_count": 42
        }
      ],
      "source": [
        "valid_3_dist = mnist_distance(valid_3_tens, mean3)\n",
        "valid_3_dist, valid_3_dist.shape"
      ]
    },
    {
      "cell_type": "code",
      "execution_count": 43,
      "metadata": {
        "id": "zPOU3NkM1zTT",
        "colab": {
          "base_uri": "https://localhost:8080/"
        },
        "outputId": "81e9c841-6cff-48df-a167-1474c59669fe"
      },
      "outputs": [
        {
          "output_type": "execute_result",
          "data": {
            "text/plain": [
              "tensor([2, 3, 4])"
            ]
          },
          "metadata": {},
          "execution_count": 43
        }
      ],
      "source": [
        "tensor([1,2,3]) + tensor(1)"
      ]
    },
    {
      "cell_type": "code",
      "execution_count": 44,
      "metadata": {
        "id": "tdKvz8zK1zTT",
        "colab": {
          "base_uri": "https://localhost:8080/"
        },
        "outputId": "a6396bf2-d77e-4c7c-ead2-cf1670117d4c"
      },
      "outputs": [
        {
          "output_type": "execute_result",
          "data": {
            "text/plain": [
              "torch.Size([1010, 28, 28])"
            ]
          },
          "metadata": {},
          "execution_count": 44
        }
      ],
      "source": [
        "(valid_3_tens-mean3).shape"
      ]
    },
    {
      "cell_type": "code",
      "execution_count": 45,
      "metadata": {
        "id": "pXGga0m91zTT"
      },
      "outputs": [],
      "source": [
        "def is_3(x): return mnist_distance(x,mean3) < mnist_distance(x,mean7)"
      ]
    },
    {
      "cell_type": "code",
      "execution_count": 46,
      "metadata": {
        "id": "9sghPcE61zTT",
        "colab": {
          "base_uri": "https://localhost:8080/"
        },
        "outputId": "0b19583e-7066-4647-8f37-f3d378a474ce"
      },
      "outputs": [
        {
          "output_type": "execute_result",
          "data": {
            "text/plain": [
              "(tensor(True), tensor(1.))"
            ]
          },
          "metadata": {},
          "execution_count": 46
        }
      ],
      "source": [
        "is_3(a_3), is_3(a_3).float()"
      ]
    },
    {
      "cell_type": "code",
      "execution_count": 47,
      "metadata": {
        "id": "kdgW0UK81zTT",
        "colab": {
          "base_uri": "https://localhost:8080/"
        },
        "outputId": "72b593d8-3492-4f61-d745-02568ba033af"
      },
      "outputs": [
        {
          "output_type": "execute_result",
          "data": {
            "text/plain": [
              "tensor([ True,  True,  True,  ...,  True, False,  True])"
            ]
          },
          "metadata": {},
          "execution_count": 47
        }
      ],
      "source": [
        "is_3(valid_3_tens)"
      ]
    },
    {
      "cell_type": "code",
      "execution_count": 48,
      "metadata": {
        "id": "_FwTDNC41zTT",
        "colab": {
          "base_uri": "https://localhost:8080/"
        },
        "outputId": "e6267e79-56ec-467c-8768-179f31767d4c"
      },
      "outputs": [
        {
          "output_type": "execute_result",
          "data": {
            "text/plain": [
              "(tensor(0.9168), tensor(0.9854), tensor(0.9511))"
            ]
          },
          "metadata": {},
          "execution_count": 48
        }
      ],
      "source": [
        "accuracy_3s =      is_3(valid_3_tens).float() .mean()\n",
        "accuracy_7s = (1 - is_3(valid_7_tens).float()).mean()\n",
        "\n",
        "accuracy_3s,accuracy_7s,(accuracy_3s+accuracy_7s)/2"
      ]
    },
    {
      "cell_type": "markdown",
      "metadata": {
        "id": "vHOZPRLj1zTT"
      },
      "source": [
        "## Stochastic Gradient Descent (SGD)"
      ]
    },
    {
      "cell_type": "code",
      "execution_count": 49,
      "metadata": {
        "id": "_SL56x1P1zTU"
      },
      "outputs": [],
      "source": [
        "def f(x): return x**2"
      ]
    },
    {
      "cell_type": "code",
      "source": [
        "import numpy as np\n",
        "\n",
        "def plot_function(f, x_min, x_max):\n",
        "    x = np.linspace(x_min, x_max, 50)\n",
        "    plt.plot(x, f(x))"
      ],
      "metadata": {
        "id": "JGiPttNG4flh"
      },
      "execution_count": 59,
      "outputs": []
    },
    {
      "cell_type": "code",
      "execution_count": 62,
      "metadata": {
        "id": "9syOKG5g1zTU",
        "colab": {
          "base_uri": "https://localhost:8080/",
          "height": 265
        },
        "outputId": "be865eae-7233-4d47-a1f1-7438b534e653"
      },
      "outputs": [
        {
          "output_type": "display_data",
          "data": {
            "text/plain": [
              "<Figure size 432x288 with 1 Axes>"
            ],
            "image/png": "[encoded data removed]"
          },
          "metadata": {
            "needs_background": "light"
          }
        }
      ],
      "source": [
        "plot_function(f, -3, 3)\n",
        "plt.scatter(-1.5, f(-1.5), color='red');"
      ]
    },
    {
      "cell_type": "markdown",
      "metadata": {
        "id": "jIQkUpZo1zTU"
      },
      "source": [
        "### Calculating Gradients"
      ]
    },
    {
      "cell_type": "code",
      "execution_count": 63,
      "metadata": {
        "id": "jGSOn1ju1zTU"
      },
      "outputs": [],
      "source": [
        "xt = tensor(3.).requires_grad_()"
      ]
    },
    {
      "cell_type": "code",
      "execution_count": 64,
      "metadata": {
        "id": "ULUpt_Km1zTU",
        "colab": {
          "base_uri": "https://localhost:8080/"
        },
        "outputId": "3abc0fab-6a13-4590-f965-acdd0e40704a"
      },
      "outputs": [
        {
          "output_type": "execute_result",
          "data": {
            "text/plain": [
              "tensor(9., grad_fn=<PowBackward0>)"
            ]
          },
          "metadata": {},
          "execution_count": 64
        }
      ],
      "source": [
        "yt = f(xt)\n",
        "yt"
      ]
    },
    {
      "cell_type": "code",
      "execution_count": 65,
      "metadata": {
        "id": "len6j9GK1zTV"
      },
      "outputs": [],
      "source": [
        "yt.backward()"
      ]
    },
    {
      "cell_type": "code",
      "execution_count": 66,
      "metadata": {
        "id": "z5JbXeas1zTV",
        "colab": {
          "base_uri": "https://localhost:8080/"
        },
        "outputId": "fdc24a24-b3c3-4a4a-ed6a-10ae33d94e18"
      },
      "outputs": [
        {
          "output_type": "execute_result",
          "data": {
            "text/plain": [
              "tensor(6.)"
            ]
          },
          "metadata": {},
          "execution_count": 66
        }
      ],
      "source": [
        "xt.grad"
      ]
    },
    {
      "cell_type": "code",
      "execution_count": 67,
      "metadata": {
        "id": "TdxPuNg21zTV",
        "colab": {
          "base_uri": "https://localhost:8080/"
        },
        "outputId": "7d5fbcfc-5220-4ced-ee47-1cc1a252db80"
      },
      "outputs": [
        {
          "output_type": "execute_result",
          "data": {
            "text/plain": [
              "tensor([ 3.,  4., 10.], requires_grad=True)"
            ]
          },
          "metadata": {},
          "execution_count": 67
        }
      ],
      "source": [
        "xt = tensor([3.,4.,10.]).requires_grad_()\n",
        "xt"
      ]
    },
    {
      "cell_type": "code",
      "execution_count": 68,
      "metadata": {
        "id": "i_M7gbeX1zTV",
        "colab": {
          "base_uri": "https://localhost:8080/"
        },
        "outputId": "e52e07db-c2c7-462e-ca00-e8963b7cb1c3"
      },
      "outputs": [
        {
          "output_type": "execute_result",
          "data": {
            "text/plain": [
              "tensor(125., grad_fn=<SumBackward0>)"
            ]
          },
          "metadata": {},
          "execution_count": 68
        }
      ],
      "source": [
        "def f(x): return (x**2).sum()\n",
        "\n",
        "yt = f(xt)\n",
        "yt"
      ]
    },
    {
      "cell_type": "code",
      "execution_count": 69,
      "metadata": {
        "id": "KAIVi8oN1zTV",
        "colab": {
          "base_uri": "https://localhost:8080/"
        },
        "outputId": "4b0b0f52-ed63-4b7c-f387-fdad8ae0eba7"
      },
      "outputs": [
        {
          "output_type": "execute_result",
          "data": {
            "text/plain": [
              "tensor([ 6.,  8., 20.])"
            ]
          },
          "metadata": {},
          "execution_count": 69
        }
      ],
      "source": [
        "yt.backward()\n",
        "xt.grad"
      ]
    },
    {
      "cell_type": "markdown",
      "metadata": {
        "id": "WIZ9Uu5m1zTV"
      },
      "source": [
        "### Stepping With a Learning Rate"
      ]
    },
    {
      "cell_type": "markdown",
      "metadata": {
        "id": "xIAGjcQd1zTV"
      },
      "source": [
        "### An End-to-End SGD Example"
      ]
    },
    {
      "cell_type": "code",
      "execution_count": 111,
      "metadata": {
        "id": "khk60SmT1zTW",
        "colab": {
          "base_uri": "https://localhost:8080/"
        },
        "outputId": "42c8f9db-ecbf-4e51-aebc-7b2b585bf20e"
      },
      "outputs": [
        {
          "output_type": "execute_result",
          "data": {
            "text/plain": [
              "tensor([ 0.,  1.,  2.,  3.,  4.,  5.,  6.,  7.,  8.,  9., 10., 11., 12., 13.,\n",
              "        14., 15., 16., 17., 18., 19.])"
            ]
          },
          "metadata": {},
          "execution_count": 111
        }
      ],
      "source": [
        "time = torch.arange(0,20).float(); time"
      ]
    },
    {
      "cell_type": "code",
      "execution_count": 112,
      "metadata": {
        "id": "slYMCxRB1zTW",
        "colab": {
          "base_uri": "https://localhost:8080/",
          "height": 265
        },
        "outputId": "4b780c1e-014d-4328-b8df-a91e8e24e6bc"
      },
      "outputs": [
        {
          "output_type": "display_data",
          "data": {
            "text/plain": [
              "<Figure size 432x288 with 1 Axes>"
            ],
            "image/png": "[encoded data removed]"
          },
          "metadata": {
            "needs_background": "light"
          }
        }
      ],
      "source": [
        "speed = torch.randn(20)*3 + 0.75*(time-9.5)**2 + 1\n",
        "plt.scatter(time,speed);"
      ]
    },
    {
      "cell_type": "code",
      "execution_count": 113,
      "metadata": {
        "id": "onyzauG11zTW"
      },
      "outputs": [],
      "source": [
        "def f(t, params):\n",
        "    a,b,c = params\n",
        "    return a*(t**2) + (b*t) + c"
      ]
    },
    {
      "cell_type": "code",
      "execution_count": 114,
      "metadata": {
        "id": "wuNC85fO1zTW"
      },
      "outputs": [],
      "source": [
        "def mse(preds, targets): return ((preds-targets)**2).mean().sqrt()"
      ]
    },
    {
      "cell_type": "markdown",
      "metadata": {
        "id": "BK0aSeVg1zTW"
      },
      "source": [
        "#### Step 1: Initialize the parameters"
      ]
    },
    {
      "cell_type": "code",
      "execution_count": 188,
      "metadata": {
        "id": "d-t6xVb11zTW"
      },
      "outputs": [],
      "source": [
        "params = torch.randn(3).requires_grad_()"
      ]
    },
    {
      "cell_type": "code",
      "execution_count": 189,
      "metadata": {
        "id": "lamjvQiO1zTW"
      },
      "outputs": [],
      "source": [
        "#hide\n",
        "orig_params = params.clone()"
      ]
    },
    {
      "cell_type": "markdown",
      "metadata": {
        "id": "ClSiNq581zTW"
      },
      "source": [
        "#### Step 2: Calculate the predictions"
      ]
    },
    {
      "cell_type": "code",
      "execution_count": 190,
      "metadata": {
        "id": "S9u2d3gu1zTW"
      },
      "outputs": [],
      "source": [
        "preds = f(time, params)"
      ]
    },
    {
      "cell_type": "code",
      "execution_count": 191,
      "metadata": {
        "id": "Td629tlY1zTX"
      },
      "outputs": [],
      "source": [
        "def show_preds(preds, ax=None):\n",
        "    if ax is None: ax=plt.subplots()[1]\n",
        "    ax.scatter(time, speed)\n",
        "    ax.scatter(time, to_np(preds), color='red')\n",
        "    ax.set_ylim(-200,200)"
      ]
    },
    {
      "cell_type": "code",
      "execution_count": 192,
      "metadata": {
        "id": "KwdTjzBT1zTX",
        "colab": {
          "base_uri": "https://localhost:8080/",
          "height": 269
        },
        "outputId": "7935bb88-cbf2-4684-8e2b-7c66893a7bca"
      },
      "outputs": [
        {
          "output_type": "display_data",
          "data": {
            "text/plain": [
              "<Figure size 432x288 with 1 Axes>"
            ],
            "image/png": "[encoded data removed]"
          },
          "metadata": {
            "needs_background": "light"
          }
        }
      ],
      "source": [
        "show_preds(preds)"
      ]
    },
    {
      "cell_type": "markdown",
      "metadata": {
        "id": "WDTESo2-1zTX"
      },
      "source": [
        "#### Step 3: Calculate the loss"
      ]
    },
    {
      "cell_type": "code",
      "execution_count": 193,
      "metadata": {
        "id": "eA7DBtAJ1zTX",
        "colab": {
          "base_uri": "https://localhost:8080/"
        },
        "outputId": "a65c52a6-f5c5-4724-ed01-2a56c7395b53"
      },
      "outputs": [
        {
          "output_type": "execute_result",
          "data": {
            "text/plain": [
              "tensor(86.8252, grad_fn=<SqrtBackward0>)"
            ]
          },
          "metadata": {},
          "execution_count": 193
        }
      ],
      "source": [
        "loss = mse(preds, speed)\n",
        "loss"
      ]
    },
    {
      "cell_type": "markdown",
      "metadata": {
        "id": "uWRO0TzY1zTX"
      },
      "source": [
        "#### Step 4: Calculate the gradients"
      ]
    },
    {
      "cell_type": "code",
      "execution_count": 194,
      "metadata": {
        "id": "0yyPyoCD1zTX",
        "colab": {
          "base_uri": "https://localhost:8080/"
        },
        "outputId": "90d39d34-10bc-45e2-babc-443abf9e0ddc"
      },
      "outputs": [
        {
          "output_type": "execute_result",
          "data": {
            "text/plain": [
              "tensor([160.2746,  10.1970,   0.5794])"
            ]
          },
          "metadata": {},
          "execution_count": 194
        }
      ],
      "source": [
        "loss.backward()\n",
        "params.grad"
      ]
    },
    {
      "cell_type": "code",
      "execution_count": 195,
      "metadata": {
        "id": "vTrP8LYl1zTX",
        "colab": {
          "base_uri": "https://localhost:8080/"
        },
        "outputId": "2b0fac35-ba75-488d-9abf-4191a7da9480"
      },
      "outputs": [
        {
          "output_type": "execute_result",
          "data": {
            "text/plain": [
              "tensor([ 0.7098, -1.1223, -1.2349], requires_grad=True)"
            ]
          },
          "metadata": {},
          "execution_count": 195
        }
      ],
      "source": [
        "params"
      ]
    },
    {
      "cell_type": "markdown",
      "metadata": {
        "id": "y2nAj-5Z1zTX"
      },
      "source": [
        "#### Step 5: Step the weights. "
      ]
    },
    {
      "cell_type": "code",
      "execution_count": 196,
      "metadata": {
        "id": "Q6P-yCzM1zTY"
      },
      "outputs": [],
      "source": [
        "lr = 1e-3\n",
        "params.data -= lr * params.grad.data\n",
        "params.grad = None"
      ]
    },
    {
      "cell_type": "code",
      "execution_count": 197,
      "metadata": {
        "id": "vXmvyJb61zTY",
        "colab": {
          "base_uri": "https://localhost:8080/"
        },
        "outputId": "142fdd0e-6aa1-40e1-c91d-697c6e457791"
      },
      "outputs": [
        {
          "output_type": "execute_result",
          "data": {
            "text/plain": [
              "tensor(61.5500, grad_fn=<SqrtBackward0>)"
            ]
          },
          "metadata": {},
          "execution_count": 197
        }
      ],
      "source": [
        "preds = f(time,params)\n",
        "mse(preds, speed)"
      ]
    },
    {
      "cell_type": "code",
      "execution_count": 198,
      "metadata": {
        "id": "__ZPMesD1zTY",
        "colab": {
          "base_uri": "https://localhost:8080/",
          "height": 269
        },
        "outputId": "ede0bd67-f0eb-42e5-b896-2c306c0874da"
      },
      "outputs": [
        {
          "output_type": "display_data",
          "data": {
            "text/plain": [
              "<Figure size 432x288 with 1 Axes>"
            ],
            "image/png": "[encoded data removed]"
          },
          "metadata": {
            "needs_background": "light"
          }
        }
      ],
      "source": [
        "show_preds(preds)"
      ]
    },
    {
      "cell_type": "code",
      "execution_count": 199,
      "metadata": {
        "id": "x2cN0uxB1zTY"
      },
      "outputs": [],
      "source": [
        "def apply_step(params, prn=True):\n",
        "    preds = f(time, params)\n",
        "    loss = mse(preds, speed)\n",
        "    loss.backward()\n",
        "    params.data -= lr * params.grad.data\n",
        "    params.grad = None\n",
        "    if prn: print(loss.item())\n",
        "    return preds"
      ]
    },
    {
      "cell_type": "markdown",
      "metadata": {
        "id": "G_vdGsOS1zTY"
      },
      "source": [
        "#### Step 6: Repeat the process "
      ]
    },
    {
      "cell_type": "code",
      "execution_count": 200,
      "metadata": {
        "id": "_FhQxYdg1zTY",
        "colab": {
          "base_uri": "https://localhost:8080/"
        },
        "outputId": "6f8555db-a9ab-4e10-e19f-43bd4021aa53"
      },
      "outputs": [
        {
          "output_type": "stream",
          "name": "stdout",
          "text": [
            "61.54996871948242\n",
            "39.657657623291016\n",
            "27.04892349243164\n",
            "25.610620498657227\n",
            "25.60746192932129\n",
            "25.607162475585938\n",
            "25.606895446777344\n",
            "25.606626510620117\n",
            "25.606355667114258\n",
            "25.60608673095703\n"
          ]
        }
      ],
      "source": [
        "for i in range(10): apply_step(params)"
      ]
    },
    {
      "cell_type": "code",
      "execution_count": 201,
      "metadata": {
        "id": "qJ01nM5M1zTY"
      },
      "outputs": [],
      "source": [
        "#hide\n",
        "params = orig_params.detach().requires_grad_()"
      ]
    },
    {
      "cell_type": "code",
      "execution_count": 202,
      "metadata": {
        "id": "dgRCG4qH1zTY",
        "colab": {
          "base_uri": "https://localhost:8080/",
          "height": 225
        },
        "outputId": "6419bb9b-5d36-42d9-a10d-a083f690edba"
      },
      "outputs": [
        {
          "output_type": "display_data",
          "data": {
            "text/plain": [
              "<Figure size 864x216 with 4 Axes>"
            ],
            "image/png": "[encoded data removed]"
          },
          "metadata": {
            "needs_background": "light"
          }
        }
      ],
      "source": [
        "_,axs = plt.subplots(1,4,figsize=(12,3))\n",
        "for ax in axs: show_preds(apply_step(params, False), ax)\n",
        "plt.tight_layout()"
      ]
    },
    {
      "cell_type": "markdown",
      "metadata": {
        "id": "nG6Dyx681zTY"
      },
      "source": [
        "#### Step 7: stop"
      ]
    },
    {
      "cell_type": "markdown",
      "metadata": {
        "id": "sn_14Gkj1zTZ"
      },
      "source": [
        "## The MNIST Loss Function"
      ]
    },
    {
      "cell_type": "code",
      "execution_count": 203,
      "metadata": {
        "id": "4cmawz7C1zTZ"
      },
      "outputs": [],
      "source": [
        "train_x = torch.cat([stacked_threes, stacked_sevens]).view(-1, 28*28)"
      ]
    },
    {
      "cell_type": "code",
      "execution_count": 204,
      "metadata": {
        "id": "7e4YhWFb1zTZ",
        "colab": {
          "base_uri": "https://localhost:8080/"
        },
        "outputId": "6f804c33-3a6e-4cd1-f7d7-d70c9bbb757f"
      },
      "outputs": [
        {
          "output_type": "execute_result",
          "data": {
            "text/plain": [
              "(torch.Size([12396, 784]), torch.Size([12396, 1]))"
            ]
          },
          "metadata": {},
          "execution_count": 204
        }
      ],
      "source": [
        "train_y = tensor([1]*len(threes) + [0]*len(sevens)).unsqueeze(1)\n",
        "train_x.shape,train_y.shape"
      ]
    },
    {
      "cell_type": "code",
      "execution_count": 205,
      "metadata": {
        "id": "H5PQP3XG1zTZ",
        "colab": {
          "base_uri": "https://localhost:8080/"
        },
        "outputId": "373dc73d-9c5a-48b0-d623-88a10e71ab04"
      },
      "outputs": [
        {
          "output_type": "execute_result",
          "data": {
            "text/plain": [
              "(torch.Size([784]), tensor([1]))"
            ]
          },
          "metadata": {},
          "execution_count": 205
        }
      ],
      "source": [
        "dset = list(zip(train_x,train_y))\n",
        "x,y = dset[0]\n",
        "x.shape,y"
      ]
    },
    {
      "cell_type": "code",
      "execution_count": 206,
      "metadata": {
        "id": "XDxaya-f1zTZ"
      },
      "outputs": [],
      "source": [
        "valid_x = torch.cat([valid_3_tens, valid_7_tens]).view(-1, 28*28)\n",
        "valid_y = tensor([1]*len(valid_3_tens) + [0]*len(valid_7_tens)).unsqueeze(1)\n",
        "valid_dset = list(zip(valid_x,valid_y))"
      ]
    },
    {
      "cell_type": "code",
      "execution_count": 207,
      "metadata": {
        "id": "gRAPmcBZ1zTZ"
      },
      "outputs": [],
      "source": [
        "def init_params(size, std=1.0): return (torch.randn(size)*std).requires_grad_()"
      ]
    },
    {
      "cell_type": "code",
      "execution_count": 208,
      "metadata": {
        "id": "Up7lPYm31zTZ"
      },
      "outputs": [],
      "source": [
        "weights = init_params((28*28,1))"
      ]
    },
    {
      "cell_type": "code",
      "execution_count": 209,
      "metadata": {
        "id": "yO6b2Y591zTa"
      },
      "outputs": [],
      "source": [
        "bias = init_params(1)"
      ]
    },
    {
      "cell_type": "code",
      "execution_count": 210,
      "metadata": {
        "id": "TaTCrx1P1zTa",
        "colab": {
          "base_uri": "https://localhost:8080/"
        },
        "outputId": "abe3a44a-16b3-462d-c3ab-7365a9eef041"
      },
      "outputs": [
        {
          "output_type": "execute_result",
          "data": {
            "text/plain": [
              "tensor([-4.3913], grad_fn=<AddBackward0>)"
            ]
          },
          "metadata": {},
          "execution_count": 210
        }
      ],
      "source": [
        "(train_x[0]*weights.T).sum() + bias"
      ]
    },
    {
      "cell_type": "code",
      "execution_count": 211,
      "metadata": {
        "id": "eiK_ej8y1zTa",
        "colab": {
          "base_uri": "https://localhost:8080/"
        },
        "outputId": "f206a0c7-f7c1-4c7b-f15c-6d2583273240"
      },
      "outputs": [
        {
          "output_type": "execute_result",
          "data": {
            "text/plain": [
              "tensor([[ -4.3913],\n",
              "        [-12.0827],\n",
              "        [ -5.6843],\n",
              "        ...,\n",
              "        [  4.6330],\n",
              "        [  8.2752],\n",
              "        [  6.0198]], grad_fn=<AddBackward0>)"
            ]
          },
          "metadata": {},
          "execution_count": 211
        }
      ],
      "source": [
        "def linear1(xb): return xb@weights + bias\n",
        "preds = linear1(train_x)\n",
        "preds"
      ]
    },
    {
      "cell_type": "code",
      "execution_count": 212,
      "metadata": {
        "id": "Dy56JrcM1zTa",
        "colab": {
          "base_uri": "https://localhost:8080/"
        },
        "outputId": "07286259-ed01-430a-eafa-accf164aa9db"
      },
      "outputs": [
        {
          "output_type": "execute_result",
          "data": {
            "text/plain": [
              "tensor([[False],\n",
              "        [False],\n",
              "        [False],\n",
              "        ...,\n",
              "        [False],\n",
              "        [False],\n",
              "        [False]])"
            ]
          },
          "metadata": {},
          "execution_count": 212
        }
      ],
      "source": [
        "corrects = (preds>0.5).float() == train_y\n",
        "corrects"
      ]
    },
    {
      "cell_type": "code",
      "execution_count": 213,
      "metadata": {
        "id": "mKqHY0MD1zTa",
        "colab": {
          "base_uri": "https://localhost:8080/"
        },
        "outputId": "268f82b9-e29d-4b04-8f1b-4eeaf3ec680e"
      },
      "outputs": [
        {
          "output_type": "execute_result",
          "data": {
            "text/plain": [
              "0.2866247296333313"
            ]
          },
          "metadata": {},
          "execution_count": 213
        }
      ],
      "source": [
        "corrects.float().mean().item()"
      ]
    },
    {
      "cell_type": "code",
      "execution_count": 215,
      "metadata": {
        "id": "8dBHGtuM1zTa"
      },
      "outputs": [],
      "source": [
        "# weights[0] *= 1.0001"
      ]
    },
    {
      "cell_type": "code",
      "execution_count": 216,
      "metadata": {
        "id": "qfRxLGkF1zTa",
        "colab": {
          "base_uri": "https://localhost:8080/"
        },
        "outputId": "27650ba4-42fd-481c-f524-ea98cc3cfe07"
      },
      "outputs": [
        {
          "output_type": "execute_result",
          "data": {
            "text/plain": [
              "0.29154565930366516"
            ]
          },
          "metadata": {},
          "execution_count": 216
        }
      ],
      "source": [
        "preds = linear1(train_x)\n",
        "((preds>0.0).float() == train_y).float().mean().item()"
      ]
    },
    {
      "cell_type": "code",
      "execution_count": 217,
      "metadata": {
        "id": "6f4KHhwx1zTa"
      },
      "outputs": [],
      "source": [
        "trgts  = tensor([1,0,1])\n",
        "prds   = tensor([0.9, 0.4, 0.2])"
      ]
    },
    {
      "cell_type": "code",
      "execution_count": 218,
      "metadata": {
        "id": "9_PGe6Ko1zTb"
      },
      "outputs": [],
      "source": [
        "def mnist_loss(predictions, targets):\n",
        "    return torch.where(targets==1, 1-predictions, predictions).mean()"
      ]
    },
    {
      "cell_type": "code",
      "execution_count": 219,
      "metadata": {
        "id": "-VLzovkg1zTb",
        "colab": {
          "base_uri": "https://localhost:8080/"
        },
        "outputId": "e0800cca-1666-4331-b9af-8e3164ac7ac1"
      },
      "outputs": [
        {
          "output_type": "execute_result",
          "data": {
            "text/plain": [
              "tensor([0.1000, 0.4000, 0.8000])"
            ]
          },
          "metadata": {},
          "execution_count": 219
        }
      ],
      "source": [
        "torch.where(trgts==1, 1-prds, prds)"
      ]
    },
    {
      "cell_type": "code",
      "execution_count": 220,
      "metadata": {
        "id": "R4o7dPTP1zTb",
        "colab": {
          "base_uri": "https://localhost:8080/"
        },
        "outputId": "8a294002-cdfd-4627-89e1-ca8d3e3bba54"
      },
      "outputs": [
        {
          "output_type": "execute_result",
          "data": {
            "text/plain": [
              "tensor(0.4333)"
            ]
          },
          "metadata": {},
          "execution_count": 220
        }
      ],
      "source": [
        "mnist_loss(prds,trgts)"
      ]
    },
    {
      "cell_type": "code",
      "execution_count": 221,
      "metadata": {
        "id": "t6M0m4Ff1zTb",
        "colab": {
          "base_uri": "https://localhost:8080/"
        },
        "outputId": "816de674-c043-43f6-83f7-aebc1ac0f95e"
      },
      "outputs": [
        {
          "output_type": "execute_result",
          "data": {
            "text/plain": [
              "tensor(0.2333)"
            ]
          },
          "metadata": {},
          "execution_count": 221
        }
      ],
      "source": [
        "mnist_loss(tensor([0.9, 0.4, 0.8]),trgts)"
      ]
    },
    {
      "cell_type": "markdown",
      "metadata": {
        "id": "N1W8vgJU1zTb"
      },
      "source": [
        "### Sigmoid"
      ]
    },
    {
      "cell_type": "code",
      "execution_count": 222,
      "metadata": {
        "id": "uUGf0cmX1zTb"
      },
      "outputs": [],
      "source": [
        "def sigmoid(x): return 1/(1+torch.exp(-x))"
      ]
    },
    {
      "cell_type": "code",
      "source": [
        "def plot_function(f, x_min, x_max):\n",
        "    x = tensor(np.linspace(x_min, x_max, 50))\n",
        "    plt.plot(x, f(x))"
      ],
      "metadata": {
        "id": "Aodz_tKm7sQm"
      },
      "execution_count": 227,
      "outputs": []
    },
    {
      "cell_type": "code",
      "execution_count": 228,
      "metadata": {
        "id": "zVMQMGBi1zTb",
        "colab": {
          "base_uri": "https://localhost:8080/",
          "height": 265
        },
        "outputId": "3ddf2289-ee2e-4b05-8dc3-3cdca0097c40"
      },
      "outputs": [
        {
          "output_type": "display_data",
          "data": {
            "text/plain": [
              "<Figure size 432x288 with 1 Axes>"
            ],
            "image/png": "[encoded data removed]"
          },
          "metadata": {
            "needs_background": "light"
          }
        }
      ],
      "source": [
        "plot_function(torch.sigmoid, x_min=-4, x_max=4)"
      ]
    },
    {
      "cell_type": "code",
      "execution_count": 229,
      "metadata": {
        "id": "41IJisvO1zTb"
      },
      "outputs": [],
      "source": [
        "def mnist_loss(predictions, targets):\n",
        "    predictions = predictions.sigmoid()\n",
        "    return torch.where(targets==1, 1-predictions, predictions).mean()"
      ]
    },
    {
      "cell_type": "code",
      "source": [
        ""
      ],
      "metadata": {
        "id": "WltuZlBK8D_a"
      },
      "execution_count": null,
      "outputs": []
    },
    {
      "cell_type": "markdown",
      "metadata": {
        "id": "Ox7vkudU1zTb"
      },
      "source": [
        "### SGD and Mini-Batches"
      ]
    },
    {
      "cell_type": "code",
      "execution_count": 230,
      "metadata": {
        "id": "llfSITBB1zTc",
        "colab": {
          "base_uri": "https://localhost:8080/"
        },
        "outputId": "f8c3702e-284d-4cde-a6ee-cf2c87b7b29e"
      },
      "outputs": [
        {
          "output_type": "execute_result",
          "data": {
            "text/plain": [
              "[tensor([ 8, 13,  0,  4,  7]),\n",
              " tensor([ 9, 14,  1, 12,  2]),\n",
              " tensor([ 6, 11, 10,  3,  5])]"
            ]
          },
          "metadata": {},
          "execution_count": 230
        }
      ],
      "source": [
        "coll = range(15)\n",
        "dl = DataLoader(coll, batch_size=5, shuffle=True)\n",
        "list(dl)"
      ]
    },
    {
      "cell_type": "code",
      "execution_count": 231,
      "metadata": {
        "id": "tynGDaHx1zTc",
        "colab": {
          "base_uri": "https://localhost:8080/"
        },
        "outputId": "dfc194b1-e92b-4755-8f95-2ce03ebde973"
      },
      "outputs": [
        {
          "output_type": "execute_result",
          "data": {
            "text/plain": [
              "(#26) [(0, 'a'),(1, 'b'),(2, 'c'),(3, 'd'),(4, 'e'),(5, 'f'),(6, 'g'),(7, 'h'),(8, 'i'),(9, 'j')...]"
            ]
          },
          "metadata": {},
          "execution_count": 231
        }
      ],
      "source": [
        "ds = L(enumerate(string.ascii_lowercase))\n",
        "ds"
      ]
    },
    {
      "cell_type": "code",
      "execution_count": 232,
      "metadata": {
        "id": "gR5CM5nj1zTc",
        "colab": {
          "base_uri": "https://localhost:8080/"
        },
        "outputId": "e7260bd7-a074-4c1d-f502-31c7ef961627"
      },
      "outputs": [
        {
          "output_type": "execute_result",
          "data": {
            "text/plain": [
              "[(tensor([ 9, 19, 24,  2, 20,  6]), ('j', 't', 'y', 'c', 'u', 'g')),\n",
              " (tensor([11, 16, 23, 22, 25,  7]), ('l', 'q', 'x', 'w', 'z', 'h')),\n",
              " (tensor([14,  1, 12, 13,  8, 21]), ('o', 'b', 'm', 'n', 'i', 'v')),\n",
              " (tensor([ 0, 18,  3, 10,  5, 17]), ('a', 's', 'd', 'k', 'f', 'r')),\n",
              " (tensor([15,  4]), ('p', 'e'))]"
            ]
          },
          "metadata": {},
          "execution_count": 232
        }
      ],
      "source": [
        "dl = DataLoader(ds, batch_size=6, shuffle=True)\n",
        "list(dl)"
      ]
    },
    {
      "cell_type": "markdown",
      "metadata": {
        "id": "-xXoRzi21zTc"
      },
      "source": [
        "## Putting It All Together"
      ]
    },
    {
      "cell_type": "code",
      "execution_count": 233,
      "metadata": {
        "id": "JBaXN1UX1zTc"
      },
      "outputs": [],
      "source": [
        "weights = init_params((28*28,1))\n",
        "bias = init_params(1)"
      ]
    },
    {
      "cell_type": "code",
      "execution_count": 234,
      "metadata": {
        "id": "B6wUVWm11zTc",
        "colab": {
          "base_uri": "https://localhost:8080/"
        },
        "outputId": "34673e42-bcb3-44c2-e479-4f413cdb0ad2"
      },
      "outputs": [
        {
          "output_type": "execute_result",
          "data": {
            "text/plain": [
              "(torch.Size([256, 784]), torch.Size([256, 1]))"
            ]
          },
          "metadata": {},
          "execution_count": 234
        }
      ],
      "source": [
        "dl = DataLoader(dset, batch_size=256)\n",
        "xb,yb = first(dl)\n",
        "xb.shape,yb.shape"
      ]
    },
    {
      "cell_type": "code",
      "execution_count": 235,
      "metadata": {
        "id": "n7Wh58ay1zTc"
      },
      "outputs": [],
      "source": [
        "valid_dl = DataLoader(valid_dset, batch_size=256)"
      ]
    },
    {
      "cell_type": "code",
      "execution_count": 236,
      "metadata": {
        "id": "tk6McV1B1zTd",
        "colab": {
          "base_uri": "https://localhost:8080/"
        },
        "outputId": "95ce374b-1659-449d-9e02-3a968532abe2"
      },
      "outputs": [
        {
          "output_type": "execute_result",
          "data": {
            "text/plain": [
              "torch.Size([4, 784])"
            ]
          },
          "metadata": {},
          "execution_count": 236
        }
      ],
      "source": [
        "batch = train_x[:4]\n",
        "batch.shape"
      ]
    },
    {
      "cell_type": "code",
      "execution_count": 237,
      "metadata": {
        "id": "a_dq6rDs1zTd",
        "colab": {
          "base_uri": "https://localhost:8080/"
        },
        "outputId": "7c75ef7f-67de-4ad7-b48a-f7711b6c0f64"
      },
      "outputs": [
        {
          "output_type": "execute_result",
          "data": {
            "text/plain": [
              "tensor([[14.7106],\n",
              "        [16.6653],\n",
              "        [ 2.6584],\n",
              "        [10.2722]], grad_fn=<AddBackward0>)"
            ]
          },
          "metadata": {},
          "execution_count": 237
        }
      ],
      "source": [
        "preds = linear1(batch)\n",
        "preds"
      ]
    },
    {
      "cell_type": "code",
      "execution_count": 238,
      "metadata": {
        "id": "38LBrXjQ1zTd",
        "colab": {
          "base_uri": "https://localhost:8080/"
        },
        "outputId": "32df70f0-db20-4640-ca95-0e1bbd1d3728"
      },
      "outputs": [
        {
          "output_type": "execute_result",
          "data": {
            "text/plain": [
              "tensor(0.0164, grad_fn=<MeanBackward0>)"
            ]
          },
          "metadata": {},
          "execution_count": 238
        }
      ],
      "source": [
        "loss = mnist_loss(preds, train_y[:4])\n",
        "loss"
      ]
    },
    {
      "cell_type": "code",
      "execution_count": 239,
      "metadata": {
        "id": "4DgV20jm1zTd",
        "colab": {
          "base_uri": "https://localhost:8080/"
        },
        "outputId": "72c328c2-4662-4c2e-9542-013882c582e5"
      },
      "outputs": [
        {
          "output_type": "execute_result",
          "data": {
            "text/plain": [
              "(torch.Size([784, 1]), tensor(-0.0022), tensor([-0.0153]))"
            ]
          },
          "metadata": {},
          "execution_count": 239
        }
      ],
      "source": [
        "loss.backward()\n",
        "weights.grad.shape,weights.grad.mean(),bias.grad"
      ]
    },
    {
      "cell_type": "code",
      "execution_count": 240,
      "metadata": {
        "id": "Aj-C-oGs1zTd"
      },
      "outputs": [],
      "source": [
        "def calc_grad(xb, yb, model):\n",
        "    preds = model(xb)\n",
        "    loss = mnist_loss(preds, yb)\n",
        "    loss.backward()"
      ]
    },
    {
      "cell_type": "code",
      "execution_count": 241,
      "metadata": {
        "id": "e7qSJeQV1zTe",
        "colab": {
          "base_uri": "https://localhost:8080/"
        },
        "outputId": "28061715-f690-4fd1-a1d8-f5a01d69919c"
      },
      "outputs": [
        {
          "output_type": "execute_result",
          "data": {
            "text/plain": [
              "(tensor(-0.0044), tensor([-0.0306]))"
            ]
          },
          "metadata": {},
          "execution_count": 241
        }
      ],
      "source": [
        "calc_grad(batch, train_y[:4], linear1)\n",
        "weights.grad.mean(),bias.grad"
      ]
    },
    {
      "cell_type": "code",
      "execution_count": 242,
      "metadata": {
        "id": "8X_UOY-71zTe",
        "colab": {
          "base_uri": "https://localhost:8080/"
        },
        "outputId": "44f32574-8fc4-499e-97cc-28b78c7f7e73"
      },
      "outputs": [
        {
          "output_type": "execute_result",
          "data": {
            "text/plain": [
              "(tensor(-0.0066), tensor([-0.0459]))"
            ]
          },
          "metadata": {},
          "execution_count": 242
        }
      ],
      "source": [
        "calc_grad(batch, train_y[:4], linear1)\n",
        "weights.grad.mean(),bias.grad"
      ]
    },
    {
      "cell_type": "code",
      "execution_count": 243,
      "metadata": {
        "id": "7KMOevJY1zTe"
      },
      "outputs": [],
      "source": [
        "weights.grad.zero_()\n",
        "bias.grad.zero_();"
      ]
    },
    {
      "cell_type": "code",
      "execution_count": 244,
      "metadata": {
        "id": "rqZ-byfc1zTe"
      },
      "outputs": [],
      "source": [
        "def train_epoch(model, lr, params):\n",
        "    for xb,yb in dl:\n",
        "        calc_grad(xb, yb, model)\n",
        "        for p in params:\n",
        "            p.data -= p.grad*lr\n",
        "            p.grad.zero_()"
      ]
    },
    {
      "cell_type": "code",
      "execution_count": 245,
      "metadata": {
        "id": "b2t1vpzm1zTe",
        "colab": {
          "base_uri": "https://localhost:8080/"
        },
        "outputId": "73ca10a8-e83c-4853-aad2-d8dcb96b4222"
      },
      "outputs": [
        {
          "output_type": "execute_result",
          "data": {
            "text/plain": [
              "tensor([[True],\n",
              "        [True],\n",
              "        [True],\n",
              "        [True]])"
            ]
          },
          "metadata": {},
          "execution_count": 245
        }
      ],
      "source": [
        "(preds>0.0).float() == train_y[:4]"
      ]
    },
    {
      "cell_type": "code",
      "execution_count": 246,
      "metadata": {
        "id": "lNPiP77M1zTe"
      },
      "outputs": [],
      "source": [
        "def batch_accuracy(xb, yb):\n",
        "    preds = xb.sigmoid()\n",
        "    correct = (preds>0.5) == yb\n",
        "    return correct.float().mean()"
      ]
    },
    {
      "cell_type": "code",
      "execution_count": 247,
      "metadata": {
        "id": "clCd5uQq1zTf",
        "colab": {
          "base_uri": "https://localhost:8080/"
        },
        "outputId": "5aa3b3e4-5aa5-4c13-bab4-c2a51d74bc5f"
      },
      "outputs": [
        {
          "output_type": "execute_result",
          "data": {
            "text/plain": [
              "tensor(1.)"
            ]
          },
          "metadata": {},
          "execution_count": 247
        }
      ],
      "source": [
        "batch_accuracy(linear1(batch), train_y[:4])"
      ]
    },
    {
      "cell_type": "code",
      "execution_count": 248,
      "metadata": {
        "id": "jgC6gT-S1zTf"
      },
      "outputs": [],
      "source": [
        "def validate_epoch(model):\n",
        "    accs = [batch_accuracy(model(xb), yb) for xb,yb in valid_dl]\n",
        "    return round(torch.stack(accs).mean().item(), 4)"
      ]
    },
    {
      "cell_type": "code",
      "execution_count": 249,
      "metadata": {
        "id": "JK9Exn5I1zTf",
        "colab": {
          "base_uri": "https://localhost:8080/"
        },
        "outputId": "72b49652-bc64-4d7c-e612-7d877bc64d05"
      },
      "outputs": [
        {
          "output_type": "execute_result",
          "data": {
            "text/plain": [
              "0.6902"
            ]
          },
          "metadata": {},
          "execution_count": 249
        }
      ],
      "source": [
        "validate_epoch(linear1)"
      ]
    },
    {
      "cell_type": "code",
      "execution_count": 250,
      "metadata": {
        "id": "ddwYPDL51zTf",
        "colab": {
          "base_uri": "https://localhost:8080/"
        },
        "outputId": "b8c86b4c-e8d7-49a6-d260-35ef8ec60c3d"
      },
      "outputs": [
        {
          "output_type": "execute_result",
          "data": {
            "text/plain": [
              "0.7353"
            ]
          },
          "metadata": {},
          "execution_count": 250
        }
      ],
      "source": [
        "lr = 1.\n",
        "params = weights,bias\n",
        "train_epoch(linear1, lr, params)\n",
        "validate_epoch(linear1)"
      ]
    },
    {
      "cell_type": "code",
      "execution_count": 251,
      "metadata": {
        "id": "j1bvH0pq1zTf",
        "colab": {
          "base_uri": "https://localhost:8080/"
        },
        "outputId": "b0131648-f045-4332-9fdd-e063e5c7fef4"
      },
      "outputs": [
        {
          "output_type": "stream",
          "name": "stdout",
          "text": [
            "0.8788 0.9252 0.9408 0.9481 0.9525 0.9579 0.9598 0.9613 0.9623 0.9647 0.9672 0.9687 0.9696 0.9706 0.9711 0.973 0.974 0.975 0.9755 0.976 "
          ]
        }
      ],
      "source": [
        "for i in range(20):\n",
        "    train_epoch(linear1, lr, params)\n",
        "    print(validate_epoch(linear1), end=' ')"
      ]
    },
    {
      "cell_type": "markdown",
      "metadata": {
        "id": "vrflgVHU1zTf"
      },
      "source": [
        "### Creating an Optimizer"
      ]
    },
    {
      "cell_type": "code",
      "execution_count": 252,
      "metadata": {
        "id": "dMI5RA5p1zTf"
      },
      "outputs": [],
      "source": [
        "linear_model = nn.Linear(28*28,1)"
      ]
    },
    {
      "cell_type": "code",
      "execution_count": 253,
      "metadata": {
        "id": "FyVXoKZZ1zTf",
        "colab": {
          "base_uri": "https://localhost:8080/"
        },
        "outputId": "9d804215-2006-4fd3-d30b-ee77369dfe97"
      },
      "outputs": [
        {
          "output_type": "execute_result",
          "data": {
            "text/plain": [
              "(torch.Size([1, 784]), torch.Size([1]))"
            ]
          },
          "metadata": {},
          "execution_count": 253
        }
      ],
      "source": [
        "w,b = linear_model.parameters()\n",
        "w.shape,b.shape"
      ]
    },
    {
      "cell_type": "code",
      "execution_count": 254,
      "metadata": {
        "id": "qW_DyYVK1zTf"
      },
      "outputs": [],
      "source": [
        "class BasicOptim:\n",
        "    def __init__(self,params,lr): self.params,self.lr = list(params),lr\n",
        "\n",
        "    def step(self, *args, **kwargs):\n",
        "        for p in self.params: p.data -= p.grad.data * self.lr\n",
        "\n",
        "    def zero_grad(self, *args, **kwargs):\n",
        "        for p in self.params: p.grad = None"
      ]
    },
    {
      "cell_type": "code",
      "execution_count": 255,
      "metadata": {
        "id": "CovCHBlM1zTg"
      },
      "outputs": [],
      "source": [
        "opt = BasicOptim(linear_model.parameters(), lr)"
      ]
    },
    {
      "cell_type": "code",
      "execution_count": 256,
      "metadata": {
        "id": "cWOvXpzk1zTg"
      },
      "outputs": [],
      "source": [
        "def train_epoch(model):\n",
        "    for xb,yb in dl:\n",
        "        calc_grad(xb, yb, model)\n",
        "        opt.step()\n",
        "        opt.zero_grad()"
      ]
    },
    {
      "cell_type": "code",
      "execution_count": 257,
      "metadata": {
        "id": "3__6MdLi1zTg",
        "colab": {
          "base_uri": "https://localhost:8080/"
        },
        "outputId": "b65cc81b-a60d-46ae-88e0-04d9cbf4c78c"
      },
      "outputs": [
        {
          "output_type": "execute_result",
          "data": {
            "text/plain": [
              "0.5029"
            ]
          },
          "metadata": {},
          "execution_count": 257
        }
      ],
      "source": [
        "validate_epoch(linear_model)"
      ]
    },
    {
      "cell_type": "code",
      "execution_count": 258,
      "metadata": {
        "id": "pf_92U3B1zTg"
      },
      "outputs": [],
      "source": [
        "def train_model(model, epochs):\n",
        "    for i in range(epochs):\n",
        "        train_epoch(model)\n",
        "        print(validate_epoch(model), end=' ')"
      ]
    },
    {
      "cell_type": "code",
      "execution_count": 259,
      "metadata": {
        "id": "yEDwz9sG1zTg",
        "colab": {
          "base_uri": "https://localhost:8080/"
        },
        "outputId": "b5ff0069-04bb-4653-f293-1391f22375a1"
      },
      "outputs": [
        {
          "output_type": "stream",
          "name": "stdout",
          "text": [
            "0.4932 0.6782 0.8604 0.9175 0.936 0.9502 0.9561 0.9629 0.9658 0.9678 0.9697 0.9712 0.9741 0.9746 0.9761 0.9771 0.9775 0.9775 0.9785 0.979 "
          ]
        }
      ],
      "source": [
        "train_model(linear_model, 20)"
      ]
    },
    {
      "cell_type": "code",
      "execution_count": 260,
      "metadata": {
        "id": "hBVW-MbU1zTg",
        "colab": {
          "base_uri": "https://localhost:8080/"
        },
        "outputId": "bf701525-8666-4ece-d2a5-b77d29f9746a"
      },
      "outputs": [
        {
          "output_type": "stream",
          "name": "stdout",
          "text": [
            "0.4932 0.7769 0.8555 0.9165 0.9346 0.9492 0.9561 0.9639 0.9658 0.9678 0.9702 0.9717 0.9736 0.9746 0.9761 0.9775 0.9775 0.978 0.9785 0.9785 "
          ]
        }
      ],
      "source": [
        "linear_model = nn.Linear(28*28,1)\n",
        "opt = SGD(linear_model.parameters(), lr)\n",
        "train_model(linear_model, 20)"
      ]
    },
    {
      "cell_type": "code",
      "execution_count": 261,
      "metadata": {
        "id": "W3DL2dpz1zTg"
      },
      "outputs": [],
      "source": [
        "dls = DataLoaders(dl, valid_dl)"
      ]
    },
    {
      "cell_type": "code",
      "execution_count": 262,
      "metadata": {
        "id": "xhN0g0is1zTh"
      },
      "outputs": [],
      "source": [
        "learn = Learner(dls, nn.Linear(28*28,1), opt_func=SGD,\n",
        "                loss_func=mnist_loss, metrics=batch_accuracy)"
      ]
    },
    {
      "cell_type": "code",
      "execution_count": 263,
      "metadata": {
        "id": "YGLXB4H_1zTh",
        "colab": {
          "base_uri": "https://localhost:8080/",
          "height": 363
        },
        "outputId": "5d5b6e5b-af5d-4f7e-b282-5763e44d3eb9"
      },
      "outputs": [
        {
          "output_type": "display_data",
          "data": {
            "text/plain": [
              "<IPython.core.display.HTML object>"
            ],
            "text/html": [
              "\n",
              "<style>\n",
              "    /* Turns off some styling */\n",
              "    progress {\n",
              "        /* gets rid of default border in Firefox and Opera. */\n",
              "        border: none;\n",
              "        /* Needs to be in here for Safari polyfill so background images work as expected. */\n",
              "        background-size: auto;\n",
              "    }\n",
              "    .progress-bar-interrupted, .progress-bar-interrupted::-webkit-progress-bar {\n",
              "        background: #F44336;\n",
              "    }\n",
              "</style>\n"
            ]
          },
          "metadata": {}
        },
        {
          "output_type": "display_data",
          "data": {
            "text/plain": [
              "<IPython.core.display.HTML object>"
            ],
            "text/html": [
              "<table border=\"1\" class=\"dataframe\">\n",
              "  <thead>\n",
              "    <tr style=\"text-align: left;\">\n",
              "      <th>epoch</th>\n",
              "      <th>train_loss</th>\n",
              "      <th>valid_loss</th>\n",
              "      <th>batch_accuracy</th>\n",
              "      <th>time</th>\n",
              "    </tr>\n",
              "  </thead>\n",
              "  <tbody>\n",
              "    <tr>\n",
              "      <td>0</td>\n",
              "      <td>0.637130</td>\n",
              "      <td>0.503639</td>\n",
              "      <td>0.495584</td>\n",
              "      <td>00:00</td>\n",
              "    </tr>\n",
              "    <tr>\n",
              "      <td>1</td>\n",
              "      <td>0.605493</td>\n",
              "      <td>0.089115</td>\n",
              "      <td>0.945535</td>\n",
              "      <td>00:00</td>\n",
              "    </tr>\n",
              "    <tr>\n",
              "      <td>2</td>\n",
              "      <td>0.218422</td>\n",
              "      <td>0.246092</td>\n",
              "      <td>0.769872</td>\n",
              "      <td>00:00</td>\n",
              "    </tr>\n",
              "    <tr>\n",
              "      <td>3</td>\n",
              "      <td>0.094292</td>\n",
              "      <td>0.123138</td>\n",
              "      <td>0.895976</td>\n",
              "      <td>00:00</td>\n",
              "    </tr>\n",
              "    <tr>\n",
              "      <td>4</td>\n",
              "      <td>0.048398</td>\n",
              "      <td>0.085202</td>\n",
              "      <td>0.929343</td>\n",
              "      <td>00:00</td>\n",
              "    </tr>\n",
              "    <tr>\n",
              "      <td>5</td>\n",
              "      <td>0.030574</td>\n",
              "      <td>0.066531</td>\n",
              "      <td>0.943572</td>\n",
              "      <td>00:00</td>\n",
              "    </tr>\n",
              "    <tr>\n",
              "      <td>6</td>\n",
              "      <td>0.023290</td>\n",
              "      <td>0.055360</td>\n",
              "      <td>0.953876</td>\n",
              "      <td>00:00</td>\n",
              "    </tr>\n",
              "    <tr>\n",
              "      <td>7</td>\n",
              "      <td>0.020103</td>\n",
              "      <td>0.048089</td>\n",
              "      <td>0.961236</td>\n",
              "      <td>00:00</td>\n",
              "    </tr>\n",
              "    <tr>\n",
              "      <td>8</td>\n",
              "      <td>0.018533</td>\n",
              "      <td>0.043075</td>\n",
              "      <td>0.964671</td>\n",
              "      <td>00:00</td>\n",
              "    </tr>\n",
              "    <tr>\n",
              "      <td>9</td>\n",
              "      <td>0.017620</td>\n",
              "      <td>0.039439</td>\n",
              "      <td>0.967125</td>\n",
              "      <td>00:00</td>\n",
              "    </tr>\n",
              "  </tbody>\n",
              "</table>"
            ]
          },
          "metadata": {}
        }
      ],
      "source": [
        "learn.fit(10, lr=lr)"
      ]
    }
  ],
  "metadata": {
    "jupytext": {
      "split_at_heading": true
    },
    "kernelspec": {
      "display_name": "Python 3 (ipykernel)",
      "language": "python",
      "name": "python3"
    },
    "colab": {
      "name": "04_mnist_basics.ipynb",
      "provenance": [],
      "include_colab_link": true
    }
  },
  "nbformat": 4,
  "nbformat_minor": 0
}